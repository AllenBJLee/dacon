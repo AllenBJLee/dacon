{
 "cells": [
  {
   "cell_type": "markdown",
   "metadata": {
    "id": "lF97lcYPwtOF"
   },
   "source": [
    "##1.라이브러리 / 데이터 로드"
   ]
  },
  {
   "cell_type": "code",
   "execution_count": 59,
   "metadata": {
    "id": "xj1dBvURsn_C"
   },
   "outputs": [],
   "source": [
    "import pandas as pd\n",
    "import numpy as np\n",
    "import seaborn as sns\n",
    "import matplotlib.pyplot as plt\n",
    "from datetime import datetime as dt\n",
    "from tqdm import tqdm\n",
    "\n",
    "import datetime\n",
    "from dateutil import relativedelta\n",
    "from datetime import timedelta"
   ]
  },
  {
   "cell_type": "code",
   "execution_count": 13,
   "metadata": {
    "colab": {
     "base_uri": "https://localhost:8080/"
    },
    "id": "UMI2yriNs296",
    "outputId": "38bcbe01-155a-4c2e-bf83-7760a4733e2a"
   },
   "outputs": [
    {
     "data": {
      "text/plain": [
       "(6556613, 9)"
      ]
     },
     "execution_count": 13,
     "metadata": {
      "tags": []
     },
     "output_type": "execute_result"
    }
   ],
   "source": [
    "df = pd.read_csv(\"/content/drive/MyDrive/funda/funda_train.csv\")\n",
    "df.shape"
   ]
  },
  {
   "cell_type": "markdown",
   "metadata": {
    "id": "u7cELCmGwzXu"
   },
   "source": [
    "## 2.데이터 형식 맞춰주기"
   ]
  },
  {
   "cell_type": "code",
   "execution_count": 14,
   "metadata": {
    "id": "lFPlzoUxvthK"
   },
   "outputs": [],
   "source": [
    "df.store_id = df.store_id.astype(np.int16)\n",
    "df.card_id = df.card_id.astype(np.int32)\n",
    "df.card_company = df.card_company.astype('category')\n",
    "df.installment_term = df.installment_term.astype(np.int8)\n",
    "df.region = df.region.astype('category')\n",
    "df.type_of_business = df.type_of_business.astype('category')"
   ]
  },
  {
   "cell_type": "code",
   "execution_count": 16,
   "metadata": {
    "id": "LobBGhopBQPX"
   },
   "outputs": [],
   "source": [
    "df['transaction_time'] = df['transacted_date'] + \"-\" + df['transacted_time']\n",
    "df['transaction_time'] = pd.to_datetime(df['transaction_time'], format='%Y-%m-%d-%H:%M', infer_datetime_format=True)"
   ]
  },
  {
   "cell_type": "code",
   "execution_count": 19,
   "metadata": {
    "id": "luk6dQizBhtn"
   },
   "outputs": [],
   "source": [
    "df.drop(['transacted_date', 'transacted_time'], axis=1, inplace=True)"
   ]
  },
  {
   "cell_type": "code",
   "execution_count": 20,
   "metadata": {
    "colab": {
     "base_uri": "https://localhost:8080/"
    },
    "id": "B9Nfgblwvumh",
    "outputId": "111c61ce-8262-401e-cd28-2a4544868e71"
   },
   "outputs": [
    {
     "name": "stdout",
     "output_type": "stream",
     "text": [
      "<class 'pandas.core.frame.DataFrame'>\n",
      "RangeIndex: 6556613 entries, 0 to 6556612\n",
      "Data columns (total 8 columns):\n",
      " #   Column            Dtype         \n",
      "---  ------            -----         \n",
      " 0   store_id          int16         \n",
      " 1   card_id           int32         \n",
      " 2   card_company      category      \n",
      " 3   installment_term  int8          \n",
      " 4   region            category      \n",
      " 5   type_of_business  category      \n",
      " 6   amount            float64       \n",
      " 7   transaction_time  datetime64[ns]\n",
      "dtypes: category(3), datetime64[ns](1), float64(1), int16(1), int32(1), int8(1)\n",
      "memory usage: 175.1 MB\n"
     ]
    }
   ],
   "source": [
    "df.info()"
   ]
  },
  {
   "cell_type": "markdown",
   "metadata": {
    "id": "pLfYFUY_w5D7"
   },
   "source": [
    "##3.데이터 전처리"
   ]
  },
  {
   "cell_type": "markdown",
   "metadata": {
    "id": "TqcFpeSVw9jL"
   },
   "source": [
    "### 1) 결제 취소 건 삭제\n",
    "코드 출처 : DACON 코드공유 https://dacon.io/competitions/official/140472/codeshare/1361?page=1&dtype=recent&ptype=pub"
   ]
  },
  {
   "cell_type": "code",
   "execution_count": 25,
   "metadata": {
    "id": "H_DQAHLVwqis"
   },
   "outputs": [],
   "source": [
    "def cancel_delete(df_):\n",
    "  df = df_.copy(deep=True) #깊은 복사는 내부에 객체들까지 모두 새롭게 copy 되는 것\n",
    "  store_id_lst = df.store_id.unique()\n",
    "  del_idx = []\n",
    "  extra_idx = []\n",
    "  for store_id in (store_id_lst):\n",
    "    tmp = df[(df['store_id'] == store_id)]\n",
    "    minus_amount = tmp[tmp['amount'] < 0]\n",
    "    for idx, col in minus_amount.iterrows(): #index랑 열을 뽑아줌\n",
    "      df_search = tmp[(tmp['amount'] == - col['amount']) & \n",
    "                      (tmp['card_id'] == col['card_id']) &\n",
    "                      (tmp['card_company'] == col['card_company'])] #취소금액과 같은 금액 찾기\n",
    "      if len(df_search) == 0:\n",
    "        # 결제 취소했지만 데이터에 없는 경우 -> 추후 제거\n",
    "        extra_idx.append(idx)\n",
    "      else:\n",
    "        # 가장 최근 결제 내역을 제거\n",
    "        del_idx.append(df_search.index[-1])\n",
    "        del_idx.append(idx)\n",
    "        \n",
    "  df.drop(del_idx, axis=0, inplace=True)\n",
    "  df.drop(extra_idx, axis=0, inplace=True)\n",
    "  return df"
   ]
  },
  {
   "cell_type": "code",
   "execution_count": 26,
   "metadata": {
    "colab": {
     "base_uri": "https://localhost:8080/"
    },
    "id": "zekzEXnqxRfb",
    "outputId": "d5d5695e-c872-462a-ea15-dd826c063076"
   },
   "outputs": [
    {
     "name": "stdout",
     "output_type": "stream",
     "text": [
      "CPU times: user 1min 48s, sys: 90 ms, total: 1min 48s\n",
      "Wall time: 1min 48s\n"
     ]
    }
   ],
   "source": [
    "%%time\n",
    "df_cleaned = cancel_delete(df)"
   ]
  },
  {
   "cell_type": "code",
   "execution_count": 27,
   "metadata": {
    "colab": {
     "base_uri": "https://localhost:8080/"
    },
    "id": "QDwZO7eh3gx4",
    "outputId": "b366289c-4714-4456-ddad-68ee4252c7b9"
   },
   "outputs": [
    {
     "name": "stdout",
     "output_type": "stream",
     "text": [
      "CPU times: user 593 ms, sys: 2 ms, total: 595 ms\n",
      "Wall time: 591 ms\n"
     ]
    }
   ],
   "source": [
    "# 매출이 0으로 되어있는 데이터도 제거\n",
    "%%time\n",
    "df_cleaned.drop(df_cleaned[df_cleaned.amount == 0].index, axis=0, inplace=True)"
   ]
  },
  {
   "cell_type": "code",
   "execution_count": 28,
   "metadata": {
    "colab": {
     "base_uri": "https://localhost:8080/"
    },
    "id": "H-qRqq_a31WQ",
    "outputId": "36781247-c931-46f8-dffe-ab182fb941bd"
   },
   "outputs": [
    {
     "data": {
      "text/plain": [
       "(6417640, 8)"
      ]
     },
     "execution_count": 28,
     "metadata": {
      "tags": []
     },
     "output_type": "execute_result"
    }
   ],
   "source": [
    "df_cleaned.shape"
   ]
  },
  {
   "cell_type": "markdown",
   "metadata": {
    "id": "QwSvhafCMAMR"
   },
   "source": [
    "### 2) 최근 폐점한 경우\n",
    "코드 출처 : DACON 코드공유 https://dacon.io/competitions/official/140472/codeshare/1361?page=1&dtype=recent&ptype=pub"
   ]
  },
  {
   "cell_type": "code",
   "execution_count": 29,
   "metadata": {
    "colab": {
     "base_uri": "https://localhost:8080/",
     "height": 329
    },
    "id": "yCYqX1XFE4x4",
    "outputId": "0ab11064-bdcc-438d-f632-ad3ec3d63eba"
   },
   "outputs": [
    {
     "data": {
      "text/html": [
       "<div>\n",
       "<style scoped>\n",
       "    .dataframe tbody tr th:only-of-type {\n",
       "        vertical-align: middle;\n",
       "    }\n",
       "\n",
       "    .dataframe tbody tr th {\n",
       "        vertical-align: top;\n",
       "    }\n",
       "\n",
       "    .dataframe thead th {\n",
       "        text-align: right;\n",
       "    }\n",
       "</style>\n",
       "<table border=\"1\" class=\"dataframe\">\n",
       "  <thead>\n",
       "    <tr style=\"text-align: right;\">\n",
       "      <th></th>\n",
       "      <th>store_id</th>\n",
       "      <th>card_id</th>\n",
       "      <th>card_company</th>\n",
       "      <th>installment_term</th>\n",
       "      <th>region</th>\n",
       "      <th>type_of_business</th>\n",
       "      <th>amount</th>\n",
       "    </tr>\n",
       "    <tr>\n",
       "      <th>transaction_time</th>\n",
       "      <th></th>\n",
       "      <th></th>\n",
       "      <th></th>\n",
       "      <th></th>\n",
       "      <th></th>\n",
       "      <th></th>\n",
       "      <th></th>\n",
       "    </tr>\n",
       "  </thead>\n",
       "  <tbody>\n",
       "    <tr>\n",
       "      <th>2016-06-01 13:13:00</th>\n",
       "      <td>0</td>\n",
       "      <td>0</td>\n",
       "      <td>b</td>\n",
       "      <td>0</td>\n",
       "      <td>NaN</td>\n",
       "      <td>기타 미용업</td>\n",
       "      <td>1857.142857</td>\n",
       "    </tr>\n",
       "    <tr>\n",
       "      <th>2016-06-01 18:12:00</th>\n",
       "      <td>0</td>\n",
       "      <td>1</td>\n",
       "      <td>h</td>\n",
       "      <td>0</td>\n",
       "      <td>NaN</td>\n",
       "      <td>기타 미용업</td>\n",
       "      <td>857.142857</td>\n",
       "    </tr>\n",
       "    <tr>\n",
       "      <th>2016-06-01 18:52:00</th>\n",
       "      <td>0</td>\n",
       "      <td>2</td>\n",
       "      <td>c</td>\n",
       "      <td>0</td>\n",
       "      <td>NaN</td>\n",
       "      <td>기타 미용업</td>\n",
       "      <td>2000.000000</td>\n",
       "    </tr>\n",
       "    <tr>\n",
       "      <th>2016-06-01 20:22:00</th>\n",
       "      <td>0</td>\n",
       "      <td>3</td>\n",
       "      <td>a</td>\n",
       "      <td>0</td>\n",
       "      <td>NaN</td>\n",
       "      <td>기타 미용업</td>\n",
       "      <td>7857.142857</td>\n",
       "    </tr>\n",
       "    <tr>\n",
       "      <th>2016-06-02 11:06:00</th>\n",
       "      <td>0</td>\n",
       "      <td>4</td>\n",
       "      <td>c</td>\n",
       "      <td>0</td>\n",
       "      <td>NaN</td>\n",
       "      <td>기타 미용업</td>\n",
       "      <td>2000.000000</td>\n",
       "    </tr>\n",
       "  </tbody>\n",
       "</table>\n",
       "</div>"
      ],
      "text/plain": [
       "                     store_id  card_id  ... type_of_business       amount\n",
       "transaction_time                        ...                              \n",
       "2016-06-01 13:13:00         0        0  ...           기타 미용업  1857.142857\n",
       "2016-06-01 18:12:00         0        1  ...           기타 미용업   857.142857\n",
       "2016-06-01 18:52:00         0        2  ...           기타 미용업  2000.000000\n",
       "2016-06-01 20:22:00         0        3  ...           기타 미용업  7857.142857\n",
       "2016-06-02 11:06:00         0        4  ...           기타 미용업  2000.000000\n",
       "\n",
       "[5 rows x 7 columns]"
      ]
     },
     "execution_count": 29,
     "metadata": {
      "tags": []
     },
     "output_type": "execute_result"
    }
   ],
   "source": [
    "df_prep = df_cleaned.set_index('transaction_time')\n",
    "df_prep.head()"
   ]
  },
  {
   "cell_type": "code",
   "execution_count": 44,
   "metadata": {
    "id": "iEH-lyXi5evY"
   },
   "outputs": [],
   "source": [
    "# 최근 데이터가 없는 상점을 찾음.\n",
    "def no_data(df, at_least_need_date = '2019-01-01'):\n",
    "  u_store_id = df['store_id'].unique() # 0~2136번\\\n",
    "  del_store_id_lst = []\n",
    "  for s_id in u_store_id:\n",
    "    df_tmp = df[df['store_id'] == s_id]\n",
    "    # 최근 매출 날짜를 봄\n",
    "    df_tmp = df_tmp.resample('M').sum().index[-1]\n",
    "    # 2019년 1월 1일 이전이면 예측 0으로. 이 부분은 나중에 바꿔도 됨.\n",
    "    if df_tmp < dt.strptime(at_least_need_date, \"%Y-%m-%d\"):\n",
    "      del_store_id_lst.append(s_id)\n",
    "  return del_store_id_lst"
   ]
  },
  {
   "cell_type": "code",
   "execution_count": 45,
   "metadata": {
    "colab": {
     "base_uri": "https://localhost:8080/"
    },
    "id": "YXjQ7uwIX-zl",
    "outputId": "9ccbb2df-baed-4f33-d52b-793c53569914"
   },
   "outputs": [
    {
     "name": "stdout",
     "output_type": "stream",
     "text": [
      "CPU times: user 12.7 s, sys: 27.6 ms, total: 12.7 s\n",
      "Wall time: 12.7 s\n"
     ]
    }
   ],
   "source": [
    "%%time\n",
    "no_data_store_id = no_data(df_prep)\n",
    "no_data_store_id"
   ]
  },
  {
   "cell_type": "code",
   "execution_count": 46,
   "metadata": {
    "colab": {
     "base_uri": "https://localhost:8080/"
    },
    "id": "qKqwLJk0YAfs",
    "outputId": "6dd61d8a-493e-4deb-9aaf-09de1ecc0a2b"
   },
   "outputs": [
    {
     "name": "stdout",
     "output_type": "stream",
     "text": [
      "[111, 257, 374, 479, 619, 632, 640, 772, 802, 838, 999, 1217, 1233, 1520, 1527, 1567, 1598, 1604, 1685, 1967, 2027, 2053, 2086, 2119]\n"
     ]
    }
   ],
   "source": [
    "# 전부 2018년도까지만 매출 데이터 있음, 2019년도 매출 데이터가 없음 \n",
    "print(no_data_store_id)"
   ]
  },
  {
   "cell_type": "code",
   "execution_count": 67,
   "metadata": {
    "colab": {
     "base_uri": "https://localhost:8080/"
    },
    "id": "uv5kdnWHKo47",
    "outputId": "03a1bfc8-9664-4da1-d63e-9fb72c218ffa"
   },
   "outputs": [
    {
     "data": {
      "text/plain": [
       "24"
      ]
     },
     "execution_count": 67,
     "metadata": {
      "tags": []
     },
     "output_type": "execute_result"
    }
   ],
   "source": [
    "len(no_data_store_id)"
   ]
  },
  {
   "cell_type": "markdown",
   "metadata": {
    "id": "YCvZmhLT37TU"
   },
   "source": [
    "### 3) 매출이 중간에 끊긴 경우(리모델링?) - 이전 매출 기록 삭제 필요 -36건\n",
    "안창배 멘토님 코드 참고\n",
    "\n"
   ]
  },
  {
   "cell_type": "markdown",
   "metadata": {
    "id": "GEMDIEkESuYD"
   },
   "source": [
    "150일 이상 폐점했던 기간이 있는 경우, 이전 매출과 비교했을 때 매출이 급증하는 양상을 보여준다. \n",
    "\n",
    "따라서 150일 이상 폐점한 경우, 폐점 이전 매출 데이터를 제거"
   ]
  },
  {
   "cell_type": "code",
   "execution_count": 47,
   "metadata": {
    "id": "ZE0aDMCeHKax"
   },
   "outputs": [],
   "source": [
    "df = df_cleaned"
   ]
  },
  {
   "cell_type": "code",
   "execution_count": 50,
   "metadata": {
    "colab": {
     "base_uri": "https://localhost:8080/",
     "height": 343
    },
    "id": "wnbTIDhi6Cn1",
    "outputId": "a637d9e7-ac53-4089-9b85-21412908d1bb"
   },
   "outputs": [
    {
     "data": {
      "text/html": [
       "<div>\n",
       "<style scoped>\n",
       "    .dataframe tbody tr th:only-of-type {\n",
       "        vertical-align: middle;\n",
       "    }\n",
       "\n",
       "    .dataframe tbody tr th {\n",
       "        vertical-align: top;\n",
       "    }\n",
       "\n",
       "    .dataframe thead th {\n",
       "        text-align: right;\n",
       "    }\n",
       "</style>\n",
       "<table border=\"1\" class=\"dataframe\">\n",
       "  <thead>\n",
       "    <tr style=\"text-align: right;\">\n",
       "      <th></th>\n",
       "      <th>store_id</th>\n",
       "      <th>period</th>\n",
       "    </tr>\n",
       "  </thead>\n",
       "  <tbody>\n",
       "    <tr>\n",
       "      <th>1950</th>\n",
       "      <td>2119</td>\n",
       "      <td>340 days 21:25:00</td>\n",
       "    </tr>\n",
       "    <tr>\n",
       "      <th>1887</th>\n",
       "      <td>2053</td>\n",
       "      <td>583 days 01:50:00</td>\n",
       "    </tr>\n",
       "    <tr>\n",
       "      <th>937</th>\n",
       "      <td>999</td>\n",
       "      <td>617 days 00:24:00</td>\n",
       "    </tr>\n",
       "    <tr>\n",
       "      <th>1189</th>\n",
       "      <td>1283</td>\n",
       "      <td>635 days 06:11:00</td>\n",
       "    </tr>\n",
       "    <tr>\n",
       "      <th>1370</th>\n",
       "      <td>1481</td>\n",
       "      <td>636 days 22:59:00</td>\n",
       "    </tr>\n",
       "    <tr>\n",
       "      <th>655</th>\n",
       "      <td>702</td>\n",
       "      <td>637 days 04:13:00</td>\n",
       "    </tr>\n",
       "    <tr>\n",
       "      <th>1434</th>\n",
       "      <td>1553</td>\n",
       "      <td>639 days 00:02:00</td>\n",
       "    </tr>\n",
       "    <tr>\n",
       "      <th>641</th>\n",
       "      <td>687</td>\n",
       "      <td>640 days 03:19:00</td>\n",
       "    </tr>\n",
       "    <tr>\n",
       "      <th>1796</th>\n",
       "      <td>1951</td>\n",
       "      <td>640 days 05:26:00</td>\n",
       "    </tr>\n",
       "    <tr>\n",
       "      <th>1404</th>\n",
       "      <td>1519</td>\n",
       "      <td>640 days 08:26:00</td>\n",
       "    </tr>\n",
       "  </tbody>\n",
       "</table>\n",
       "</div>"
      ],
      "text/plain": [
       "      store_id            period\n",
       "1950      2119 340 days 21:25:00\n",
       "1887      2053 583 days 01:50:00\n",
       "937        999 617 days 00:24:00\n",
       "1189      1283 635 days 06:11:00\n",
       "1370      1481 636 days 22:59:00\n",
       "655        702 637 days 04:13:00\n",
       "1434      1553 639 days 00:02:00\n",
       "641        687 640 days 03:19:00\n",
       "1796      1951 640 days 05:26:00\n",
       "1404      1519 640 days 08:26:00"
      ]
     },
     "execution_count": 50,
     "metadata": {
      "tags": []
     },
     "output_type": "execute_result"
    }
   ],
   "source": [
    "# 각 상점 별로 데이터가 존재하는 기간\n",
    "store_period = (df.groupby('store_id').transaction_time.max() - df.groupby('store_id').transaction_time.min()).reset_index(name='period')\n",
    "store_period.nsmallest(10, 'period')"
   ]
  },
  {
   "cell_type": "code",
   "execution_count": null,
   "metadata": {
    "colab": {
     "base_uri": "https://localhost:8080/",
     "height": 402
    },
    "id": "WywPmNRt6RCx",
    "outputId": "6dc8209c-f4bd-4a73-ce27-d527b9440573"
   },
   "outputs": [
    {
     "data": {
      "text/html": [
       "<div>\n",
       "<style scoped>\n",
       "    .dataframe tbody tr th:only-of-type {\n",
       "        vertical-align: middle;\n",
       "    }\n",
       "\n",
       "    .dataframe tbody tr th {\n",
       "        vertical-align: top;\n",
       "    }\n",
       "\n",
       "    .dataframe thead th {\n",
       "        text-align: right;\n",
       "    }\n",
       "</style>\n",
       "<table border=\"1\" class=\"dataframe\">\n",
       "  <thead>\n",
       "    <tr style=\"text-align: right;\">\n",
       "      <th></th>\n",
       "      <th>store_id</th>\n",
       "      <th>card_id</th>\n",
       "      <th>card_company</th>\n",
       "      <th>transacted_date</th>\n",
       "      <th>installment_term</th>\n",
       "      <th>region</th>\n",
       "      <th>type_of_business</th>\n",
       "      <th>amount</th>\n",
       "    </tr>\n",
       "  </thead>\n",
       "  <tbody>\n",
       "    <tr>\n",
       "      <th>5924203</th>\n",
       "      <td>1950</td>\n",
       "      <td>4211430</td>\n",
       "      <td>a</td>\n",
       "      <td>2016-08-12 16:41:00</td>\n",
       "      <td>0</td>\n",
       "      <td>NaN</td>\n",
       "      <td>NaN</td>\n",
       "      <td>14.285714</td>\n",
       "    </tr>\n",
       "    <tr>\n",
       "      <th>5924204</th>\n",
       "      <td>1950</td>\n",
       "      <td>4211430</td>\n",
       "      <td>a</td>\n",
       "      <td>2016-08-12 16:41:00</td>\n",
       "      <td>0</td>\n",
       "      <td>NaN</td>\n",
       "      <td>NaN</td>\n",
       "      <td>-14.285714</td>\n",
       "    </tr>\n",
       "    <tr>\n",
       "      <th>5924205</th>\n",
       "      <td>1950</td>\n",
       "      <td>4211430</td>\n",
       "      <td>a</td>\n",
       "      <td>2016-08-12 16:42:00</td>\n",
       "      <td>0</td>\n",
       "      <td>NaN</td>\n",
       "      <td>NaN</td>\n",
       "      <td>14.285714</td>\n",
       "    </tr>\n",
       "    <tr>\n",
       "      <th>5924206</th>\n",
       "      <td>1950</td>\n",
       "      <td>4211430</td>\n",
       "      <td>a</td>\n",
       "      <td>2016-08-12 16:43:00</td>\n",
       "      <td>0</td>\n",
       "      <td>NaN</td>\n",
       "      <td>NaN</td>\n",
       "      <td>-14.285714</td>\n",
       "    </tr>\n",
       "    <tr>\n",
       "      <th>5924207</th>\n",
       "      <td>1950</td>\n",
       "      <td>4211431</td>\n",
       "      <td>a</td>\n",
       "      <td>2016-08-16 08:39:00</td>\n",
       "      <td>0</td>\n",
       "      <td>NaN</td>\n",
       "      <td>NaN</td>\n",
       "      <td>857.142857</td>\n",
       "    </tr>\n",
       "    <tr>\n",
       "      <th>...</th>\n",
       "      <td>...</td>\n",
       "      <td>...</td>\n",
       "      <td>...</td>\n",
       "      <td>...</td>\n",
       "      <td>...</td>\n",
       "      <td>...</td>\n",
       "      <td>...</td>\n",
       "      <td>...</td>\n",
       "    </tr>\n",
       "    <tr>\n",
       "      <th>5927305</th>\n",
       "      <td>1950</td>\n",
       "      <td>4213194</td>\n",
       "      <td>c</td>\n",
       "      <td>2019-02-28 15:30:00</td>\n",
       "      <td>0</td>\n",
       "      <td>NaN</td>\n",
       "      <td>NaN</td>\n",
       "      <td>714.285714</td>\n",
       "    </tr>\n",
       "    <tr>\n",
       "      <th>5927306</th>\n",
       "      <td>1950</td>\n",
       "      <td>4213319</td>\n",
       "      <td>a</td>\n",
       "      <td>2019-02-28 17:01:00</td>\n",
       "      <td>0</td>\n",
       "      <td>NaN</td>\n",
       "      <td>NaN</td>\n",
       "      <td>571.428571</td>\n",
       "    </tr>\n",
       "    <tr>\n",
       "      <th>5927307</th>\n",
       "      <td>1950</td>\n",
       "      <td>4212770</td>\n",
       "      <td>b</td>\n",
       "      <td>2019-02-28 18:20:00</td>\n",
       "      <td>0</td>\n",
       "      <td>NaN</td>\n",
       "      <td>NaN</td>\n",
       "      <td>1714.285714</td>\n",
       "    </tr>\n",
       "    <tr>\n",
       "      <th>5927308</th>\n",
       "      <td>1950</td>\n",
       "      <td>4213320</td>\n",
       "      <td>c</td>\n",
       "      <td>2019-02-28 18:47:00</td>\n",
       "      <td>0</td>\n",
       "      <td>NaN</td>\n",
       "      <td>NaN</td>\n",
       "      <td>214.285714</td>\n",
       "    </tr>\n",
       "    <tr>\n",
       "      <th>5927309</th>\n",
       "      <td>1950</td>\n",
       "      <td>4212977</td>\n",
       "      <td>d</td>\n",
       "      <td>2019-02-28 19:16:00</td>\n",
       "      <td>0</td>\n",
       "      <td>NaN</td>\n",
       "      <td>NaN</td>\n",
       "      <td>571.428571</td>\n",
       "    </tr>\n",
       "  </tbody>\n",
       "</table>\n",
       "<p>3107 rows × 8 columns</p>\n",
       "</div>"
      ],
      "text/plain": [
       "         store_id  card_id card_company  ... region  type_of_business       amount\n",
       "5924203      1950  4211430            a  ...    NaN               NaN    14.285714\n",
       "5924204      1950  4211430            a  ...    NaN               NaN   -14.285714\n",
       "5924205      1950  4211430            a  ...    NaN               NaN    14.285714\n",
       "5924206      1950  4211430            a  ...    NaN               NaN   -14.285714\n",
       "5924207      1950  4211431            a  ...    NaN               NaN   857.142857\n",
       "...           ...      ...          ...  ...    ...               ...          ...\n",
       "5927305      1950  4213194            c  ...    NaN               NaN   714.285714\n",
       "5927306      1950  4213319            a  ...    NaN               NaN   571.428571\n",
       "5927307      1950  4212770            b  ...    NaN               NaN  1714.285714\n",
       "5927308      1950  4213320            c  ...    NaN               NaN   214.285714\n",
       "5927309      1950  4212977            d  ...    NaN               NaN   571.428571\n",
       "\n",
       "[3107 rows x 8 columns]"
      ]
     },
     "execution_count": 47,
     "metadata": {
      "tags": []
     },
     "output_type": "execute_result"
    }
   ],
   "source": [
    "# 2018년에 폐점한 것으로 보이는 케이스\n",
    "df[df.store_id==1950]"
   ]
  },
  {
   "cell_type": "code",
   "execution_count": null,
   "metadata": {
    "colab": {
     "base_uri": "https://localhost:8080/",
     "height": 402
    },
    "id": "PI2sgNjgCD6J",
    "outputId": "8790c435-38be-4df2-ef14-efce3795a910"
   },
   "outputs": [
    {
     "data": {
      "text/html": [
       "<div>\n",
       "<style scoped>\n",
       "    .dataframe tbody tr th:only-of-type {\n",
       "        vertical-align: middle;\n",
       "    }\n",
       "\n",
       "    .dataframe tbody tr th {\n",
       "        vertical-align: top;\n",
       "    }\n",
       "\n",
       "    .dataframe thead th {\n",
       "        text-align: right;\n",
       "    }\n",
       "</style>\n",
       "<table border=\"1\" class=\"dataframe\">\n",
       "  <thead>\n",
       "    <tr style=\"text-align: right;\">\n",
       "      <th></th>\n",
       "      <th>store_id</th>\n",
       "      <th>card_id</th>\n",
       "      <th>card_company</th>\n",
       "      <th>transacted_date</th>\n",
       "      <th>installment_term</th>\n",
       "      <th>region</th>\n",
       "      <th>type_of_business</th>\n",
       "      <th>amount</th>\n",
       "    </tr>\n",
       "  </thead>\n",
       "  <tbody>\n",
       "    <tr>\n",
       "      <th>6176740</th>\n",
       "      <td>2025</td>\n",
       "      <td>4388414</td>\n",
       "      <td>h</td>\n",
       "      <td>2017-05-26 20:01:00</td>\n",
       "      <td>0</td>\n",
       "      <td>NaN</td>\n",
       "      <td>NaN</td>\n",
       "      <td>2928.571429</td>\n",
       "    </tr>\n",
       "    <tr>\n",
       "      <th>6176741</th>\n",
       "      <td>2025</td>\n",
       "      <td>4388414</td>\n",
       "      <td>h</td>\n",
       "      <td>2017-05-26 20:02:00</td>\n",
       "      <td>0</td>\n",
       "      <td>NaN</td>\n",
       "      <td>NaN</td>\n",
       "      <td>714.285714</td>\n",
       "    </tr>\n",
       "    <tr>\n",
       "      <th>6176742</th>\n",
       "      <td>2025</td>\n",
       "      <td>4388415</td>\n",
       "      <td>a</td>\n",
       "      <td>2017-05-26 21:10:00</td>\n",
       "      <td>0</td>\n",
       "      <td>NaN</td>\n",
       "      <td>NaN</td>\n",
       "      <td>3285.714286</td>\n",
       "    </tr>\n",
       "    <tr>\n",
       "      <th>6176743</th>\n",
       "      <td>2025</td>\n",
       "      <td>4388416</td>\n",
       "      <td>g</td>\n",
       "      <td>2017-05-26 21:30:00</td>\n",
       "      <td>0</td>\n",
       "      <td>NaN</td>\n",
       "      <td>NaN</td>\n",
       "      <td>1857.142857</td>\n",
       "    </tr>\n",
       "    <tr>\n",
       "      <th>6176744</th>\n",
       "      <td>2025</td>\n",
       "      <td>4388417</td>\n",
       "      <td>a</td>\n",
       "      <td>2017-05-27 17:56:00</td>\n",
       "      <td>0</td>\n",
       "      <td>NaN</td>\n",
       "      <td>NaN</td>\n",
       "      <td>2428.571429</td>\n",
       "    </tr>\n",
       "    <tr>\n",
       "      <th>...</th>\n",
       "      <td>...</td>\n",
       "      <td>...</td>\n",
       "      <td>...</td>\n",
       "      <td>...</td>\n",
       "      <td>...</td>\n",
       "      <td>...</td>\n",
       "      <td>...</td>\n",
       "      <td>...</td>\n",
       "    </tr>\n",
       "    <tr>\n",
       "      <th>6181633</th>\n",
       "      <td>2025</td>\n",
       "      <td>4391795</td>\n",
       "      <td>a</td>\n",
       "      <td>2019-02-27 15:43:00</td>\n",
       "      <td>0</td>\n",
       "      <td>NaN</td>\n",
       "      <td>NaN</td>\n",
       "      <td>2285.714286</td>\n",
       "    </tr>\n",
       "    <tr>\n",
       "      <th>6181634</th>\n",
       "      <td>2025</td>\n",
       "      <td>4391669</td>\n",
       "      <td>a</td>\n",
       "      <td>2019-02-27 20:40:00</td>\n",
       "      <td>0</td>\n",
       "      <td>NaN</td>\n",
       "      <td>NaN</td>\n",
       "      <td>2428.571429</td>\n",
       "    </tr>\n",
       "    <tr>\n",
       "      <th>6181635</th>\n",
       "      <td>2025</td>\n",
       "      <td>4391796</td>\n",
       "      <td>b</td>\n",
       "      <td>2019-02-27 23:38:00</td>\n",
       "      <td>0</td>\n",
       "      <td>NaN</td>\n",
       "      <td>NaN</td>\n",
       "      <td>2857.142857</td>\n",
       "    </tr>\n",
       "    <tr>\n",
       "      <th>6181636</th>\n",
       "      <td>2025</td>\n",
       "      <td>4391136</td>\n",
       "      <td>a</td>\n",
       "      <td>2019-02-28 13:48:00</td>\n",
       "      <td>0</td>\n",
       "      <td>NaN</td>\n",
       "      <td>NaN</td>\n",
       "      <td>2428.571429</td>\n",
       "    </tr>\n",
       "    <tr>\n",
       "      <th>6181637</th>\n",
       "      <td>2025</td>\n",
       "      <td>1605562</td>\n",
       "      <td>e</td>\n",
       "      <td>2019-02-28 16:54:00</td>\n",
       "      <td>0</td>\n",
       "      <td>NaN</td>\n",
       "      <td>NaN</td>\n",
       "      <td>2857.142857</td>\n",
       "    </tr>\n",
       "  </tbody>\n",
       "</table>\n",
       "<p>4898 rows × 8 columns</p>\n",
       "</div>"
      ],
      "text/plain": [
       "         store_id  card_id card_company  ... region  type_of_business       amount\n",
       "6176740      2025  4388414            h  ...    NaN               NaN  2928.571429\n",
       "6176741      2025  4388414            h  ...    NaN               NaN   714.285714\n",
       "6176742      2025  4388415            a  ...    NaN               NaN  3285.714286\n",
       "6176743      2025  4388416            g  ...    NaN               NaN  1857.142857\n",
       "6176744      2025  4388417            a  ...    NaN               NaN  2428.571429\n",
       "...           ...      ...          ...  ...    ...               ...          ...\n",
       "6181633      2025  4391795            a  ...    NaN               NaN  2285.714286\n",
       "6181634      2025  4391669            a  ...    NaN               NaN  2428.571429\n",
       "6181635      2025  4391796            b  ...    NaN               NaN  2857.142857\n",
       "6181636      2025  4391136            a  ...    NaN               NaN  2428.571429\n",
       "6181637      2025  1605562            e  ...    NaN               NaN  2857.142857\n",
       "\n",
       "[4898 rows x 8 columns]"
      ]
     },
     "execution_count": 59,
     "metadata": {
      "tags": []
     },
     "output_type": "execute_result"
    }
   ],
   "source": [
    "# 최근에 새로 생긴 상점인 케이스\n",
    "df[df.store_id==2025]"
   ]
  },
  {
   "cell_type": "code",
   "execution_count": 52,
   "metadata": {
    "colab": {
     "base_uri": "https://localhost:8080/"
    },
    "id": "BKlJUs8LD6Jp",
    "outputId": "7af7f0b7-8ceb-4233-b199-2306bdb97bbe"
   },
   "outputs": [
    {
     "name": "stderr",
     "output_type": "stream",
     "text": [
      "\n",
      "  0%|          | 0/1967 [00:00<?, ?it/s]\u001b[A\n",
      "  0%|          | 1/1967 [00:00<13:55,  2.35it/s]\u001b[A\n",
      "  1%|          | 14/1967 [00:01<10:17,  3.17it/s]\u001b[A\n",
      "  1%|▏         | 28/1967 [00:03<08:45,  3.69it/s]\u001b[A\n",
      "  2%|▏         | 42/1967 [00:04<06:27,  4.97it/s]\u001b[A\n",
      "  3%|▎         | 56/1967 [00:04<04:44,  6.71it/s]\u001b[A\n",
      "  4%|▎         | 70/1967 [00:04<03:33,  8.88it/s]\u001b[A\n",
      "  4%|▍         | 84/1967 [00:05<02:43, 11.54it/s]\u001b[A\n",
      "  5%|▍         | 98/1967 [00:05<02:01, 15.37it/s]\u001b[A\n",
      "  6%|▌         | 112/1967 [00:05<01:31, 20.29it/s]\u001b[A\n",
      "  7%|▋         | 140/1967 [00:05<01:06, 27.63it/s]\u001b[A\n",
      " 10%|▉         | 196/1967 [00:05<00:46, 38.18it/s]\u001b[A\n",
      " 13%|█▎        | 252/1967 [00:06<00:32, 52.75it/s]\u001b[A\n",
      " 16%|█▌        | 308/1967 [00:06<00:23, 72.02it/s]\u001b[A\n",
      " 19%|█▊        | 364/1967 [00:06<00:17, 92.19it/s]\u001b[A\n",
      " 21%|██▏       | 420/1967 [00:06<00:13, 118.19it/s]\u001b[A\n",
      " 24%|██▍       | 476/1967 [00:06<00:10, 142.59it/s]\u001b[A\n",
      " 27%|██▋       | 532/1967 [00:06<00:08, 173.26it/s]\u001b[A\n",
      " 30%|██▉       | 588/1967 [00:07<00:06, 197.19it/s]\u001b[A\n",
      " 33%|███▎      | 644/1967 [00:07<00:06, 219.99it/s]\u001b[A\n",
      " 36%|███▌      | 700/1967 [00:07<00:05, 237.13it/s]\u001b[A\n",
      " 38%|███▊      | 756/1967 [00:07<00:04, 252.15it/s]\u001b[A\n",
      " 41%|████▏     | 812/1967 [00:07<00:04, 260.93it/s]\u001b[A\n",
      " 44%|████▍     | 868/1967 [00:08<00:04, 267.10it/s]\u001b[A\n",
      " 47%|████▋     | 924/1967 [00:08<00:03, 262.93it/s]\u001b[A\n",
      " 50%|████▉     | 980/1967 [00:08<00:03, 280.33it/s]\u001b[A\n",
      " 53%|█████▎    | 1036/1967 [00:08<00:03, 282.06it/s]\u001b[A\n",
      " 56%|█████▌    | 1092/1967 [00:08<00:03, 282.30it/s]\u001b[A\n",
      " 58%|█████▊    | 1148/1967 [00:09<00:02, 289.50it/s]\u001b[A\n",
      " 61%|██████    | 1204/1967 [00:09<00:02, 294.44it/s]\u001b[A\n",
      " 64%|██████▍   | 1260/1967 [00:09<00:02, 297.08it/s]\u001b[A\n",
      " 67%|██████▋   | 1316/1967 [00:09<00:02, 283.17it/s]\u001b[A\n",
      " 70%|██████▉   | 1372/1967 [00:09<00:02, 270.62it/s]\u001b[A\n",
      " 73%|███████▎  | 1428/1967 [00:10<00:01, 276.30it/s]\u001b[A\n",
      " 75%|███████▌  | 1484/1967 [00:10<00:01, 282.07it/s]\u001b[A\n",
      " 78%|███████▊  | 1540/1967 [00:10<00:01, 281.37it/s]\u001b[A\n",
      " 81%|████████  | 1596/1967 [00:10<00:01, 290.59it/s]\u001b[A\n",
      " 84%|████████▍ | 1652/1967 [00:10<00:01, 296.68it/s]\u001b[A\n",
      " 87%|████████▋ | 1708/1967 [00:10<00:00, 292.22it/s]\u001b[A\n",
      " 90%|████████▉ | 1764/1967 [00:11<00:00, 296.01it/s]\u001b[A\n",
      " 93%|█████████▎| 1820/1967 [00:11<00:00, 296.31it/s]\u001b[A\n",
      " 95%|█████████▌| 1876/1967 [00:11<00:00, 288.64it/s]\u001b[A\n",
      "100%|██████████| 1967/1967 [00:11<00:00, 167.27it/s]\n"
     ]
    }
   ],
   "source": [
    "# 휴점기간 찾기\n",
    "\n",
    "max_time_diff = lambda group: (group.store_id.values[0], group.transaction_time.diff().max()) #df.diff() : 열 간의 차이 반환\n",
    "\n",
    "from tqdm import tqdm #tqdm 공부하기\n",
    "from joblib import Parallel, delayed #joblib, multi-processing 공부하기\n",
    "res = Parallel(n_jobs=14)(delayed(max_time_diff)(group) \n",
    "                         for _, group in tqdm(df.groupby('store_id'), total=df.store_id.nunique()))"
   ]
  },
  {
   "cell_type": "code",
   "execution_count": 53,
   "metadata": {
    "colab": {
     "base_uri": "https://localhost:8080/",
     "height": 343
    },
    "id": "eueMeRwCH8sX",
    "outputId": "75684ea9-273e-4e2c-e2a9-b9048f5bbd63"
   },
   "outputs": [
    {
     "data": {
      "text/html": [
       "<div>\n",
       "<style scoped>\n",
       "    .dataframe tbody tr th:only-of-type {\n",
       "        vertical-align: middle;\n",
       "    }\n",
       "\n",
       "    .dataframe tbody tr th {\n",
       "        vertical-align: top;\n",
       "    }\n",
       "\n",
       "    .dataframe thead th {\n",
       "        text-align: right;\n",
       "    }\n",
       "</style>\n",
       "<table border=\"1\" class=\"dataframe\">\n",
       "  <thead>\n",
       "    <tr style=\"text-align: right;\">\n",
       "      <th></th>\n",
       "      <th>store_id</th>\n",
       "      <th>max_diff</th>\n",
       "    </tr>\n",
       "  </thead>\n",
       "  <tbody>\n",
       "    <tr>\n",
       "      <th>742</th>\n",
       "      <td>795</td>\n",
       "      <td>656 days 21:07:00</td>\n",
       "    </tr>\n",
       "    <tr>\n",
       "      <th>1117</th>\n",
       "      <td>1204</td>\n",
       "      <td>560 days 22:24:00</td>\n",
       "    </tr>\n",
       "    <tr>\n",
       "      <th>590</th>\n",
       "      <td>632</td>\n",
       "      <td>518 days 14:52:00</td>\n",
       "    </tr>\n",
       "    <tr>\n",
       "      <th>251</th>\n",
       "      <td>271</td>\n",
       "      <td>492 days 01:49:00</td>\n",
       "    </tr>\n",
       "    <tr>\n",
       "      <th>1912</th>\n",
       "      <td>2081</td>\n",
       "      <td>485 days 02:40:00</td>\n",
       "    </tr>\n",
       "    <tr>\n",
       "      <th>1563</th>\n",
       "      <td>1696</td>\n",
       "      <td>462 days 19:57:00</td>\n",
       "    </tr>\n",
       "    <tr>\n",
       "      <th>1691</th>\n",
       "      <td>1836</td>\n",
       "      <td>416 days 03:53:00</td>\n",
       "    </tr>\n",
       "    <tr>\n",
       "      <th>469</th>\n",
       "      <td>506</td>\n",
       "      <td>317 days 20:46:00</td>\n",
       "    </tr>\n",
       "    <tr>\n",
       "      <th>1643</th>\n",
       "      <td>1783</td>\n",
       "      <td>306 days 17:02:00</td>\n",
       "    </tr>\n",
       "    <tr>\n",
       "      <th>1260</th>\n",
       "      <td>1364</td>\n",
       "      <td>288 days 03:46:00</td>\n",
       "    </tr>\n",
       "  </tbody>\n",
       "</table>\n",
       "</div>"
      ],
      "text/plain": [
       "      store_id          max_diff\n",
       "742        795 656 days 21:07:00\n",
       "1117      1204 560 days 22:24:00\n",
       "590        632 518 days 14:52:00\n",
       "251        271 492 days 01:49:00\n",
       "1912      2081 485 days 02:40:00\n",
       "1563      1696 462 days 19:57:00\n",
       "1691      1836 416 days 03:53:00\n",
       "469        506 317 days 20:46:00\n",
       "1643      1783 306 days 17:02:00\n",
       "1260      1364 288 days 03:46:00"
      ]
     },
     "execution_count": 53,
     "metadata": {
      "tags": []
     },
     "output_type": "execute_result"
    }
   ],
   "source": [
    "max_diff_df = pd.DataFrame(res, columns=['store_id', 'max_diff'])\n",
    "max_diff_df.nlargest(10, 'max_diff')"
   ]
  },
  {
   "cell_type": "code",
   "execution_count": 58,
   "metadata": {
    "colab": {
     "base_uri": "https://localhost:8080/",
     "height": 444
    },
    "id": "I9YHaEeQKbgK",
    "outputId": "0c655c0a-f16a-4a90-bcfb-296381b73a8b"
   },
   "outputs": [
    {
     "data": {
      "text/plain": [
       "<matplotlib.axes._subplots.AxesSubplot at 0x7f31dd97db00>"
      ]
     },
     "execution_count": 58,
     "metadata": {
      "tags": []
     },
     "output_type": "execute_result"
    },
    {
     "data": {
      "image/png": "[encoded data removed]",
      "text/plain": [
       "<Figure size 1440x432 with 1 Axes>"
      ]
     },
     "metadata": {
      "needs_background": "light",
      "tags": []
     },
     "output_type": "display_data"
    }
   ],
   "source": [
    "# 월별 매출 그래프로 그려보면 다시 열고 나서 매출이 대체적으로 급증함. 리모델링? 매장 확장? 이 데이터들의 경우 초기데이터가 학습에 활용되면 안될 것임\n",
    "plt.figure(figsize=(20,6))\n",
    "df[df.store_id == 1204].transaction_time.dt.to_period(\"M\").value_counts().sort_index().plot.bar()"
   ]
  },
  {
   "cell_type": "code",
   "execution_count": 63,
   "metadata": {
    "colab": {
     "base_uri": "https://localhost:8080/"
    },
    "id": "HUaPFPD6MOXq",
    "outputId": "917040a8-b9fe-4aee-ed29-7bec0e9e753f"
   },
   "outputs": [
    {
     "name": "stdout",
     "output_type": "stream",
     "text": [
      "10일 이상 기록이 없었다가 다시 로그가 생겨난 상점 수: 962\n",
      "50일 이상 기록이 없었다가 다시 로그가 생겨난 상점 수: 160\n",
      "90일 이상 기록이 없었다가 다시 로그가 생겨난 상점 수: 86\n",
      "150일 이상 기록이 없었다가 다시 로그가 생겨난 상점 수: 37\n",
      "200일 이상 기록이 없었다가 다시 로그가 생겨난 상점 수: 24\n",
      "300일 이상 기록이 없었다가 다시 로그가 생겨난 상점 수: 9\n"
     ]
    }
   ],
   "source": [
    "for days in (10, 50, 90, 150, 200, 300):\n",
    "    print(f\"{days}일 이상 기록이 없었다가 다시 로그가 생겨난 상점 수: {(max_diff_df.max_diff>timedelta(days=days)).sum()}\")"
   ]
  },
  {
   "cell_type": "code",
   "execution_count": 64,
   "metadata": {
    "colab": {
     "base_uri": "https://localhost:8080/",
     "height": 343
    },
    "id": "aU-57wDzP0SL",
    "outputId": "0ce843fe-abca-4656-e26f-3273ee12c08e"
   },
   "outputs": [
    {
     "data": {
      "text/html": [
       "<div>\n",
       "<style scoped>\n",
       "    .dataframe tbody tr th:only-of-type {\n",
       "        vertical-align: middle;\n",
       "    }\n",
       "\n",
       "    .dataframe tbody tr th {\n",
       "        vertical-align: top;\n",
       "    }\n",
       "\n",
       "    .dataframe thead th {\n",
       "        text-align: right;\n",
       "    }\n",
       "</style>\n",
       "<table border=\"1\" class=\"dataframe\">\n",
       "  <thead>\n",
       "    <tr style=\"text-align: right;\">\n",
       "      <th></th>\n",
       "      <th>store_id</th>\n",
       "      <th>max_diff</th>\n",
       "    </tr>\n",
       "  </thead>\n",
       "  <tbody>\n",
       "    <tr>\n",
       "      <th>578</th>\n",
       "      <td>619</td>\n",
       "      <td>151 days 00:23:00</td>\n",
       "    </tr>\n",
       "    <tr>\n",
       "      <th>1058</th>\n",
       "      <td>1139</td>\n",
       "      <td>159 days 00:06:00</td>\n",
       "    </tr>\n",
       "    <tr>\n",
       "      <th>1090</th>\n",
       "      <td>1176</td>\n",
       "      <td>159 days 22:40:00</td>\n",
       "    </tr>\n",
       "    <tr>\n",
       "      <th>1522</th>\n",
       "      <td>1650</td>\n",
       "      <td>161 days 22:28:00</td>\n",
       "    </tr>\n",
       "    <tr>\n",
       "      <th>1630</th>\n",
       "      <td>1770</td>\n",
       "      <td>168 days 05:49:00</td>\n",
       "    </tr>\n",
       "    <tr>\n",
       "      <th>414</th>\n",
       "      <td>447</td>\n",
       "      <td>169 days 22:45:00</td>\n",
       "    </tr>\n",
       "    <tr>\n",
       "      <th>1355</th>\n",
       "      <td>1466</td>\n",
       "      <td>174 days 01:46:00</td>\n",
       "    </tr>\n",
       "    <tr>\n",
       "      <th>1830</th>\n",
       "      <td>1989</td>\n",
       "      <td>175 days 17:52:00</td>\n",
       "    </tr>\n",
       "    <tr>\n",
       "      <th>1325</th>\n",
       "      <td>1435</td>\n",
       "      <td>176 days 17:22:00</td>\n",
       "    </tr>\n",
       "    <tr>\n",
       "      <th>720</th>\n",
       "      <td>772</td>\n",
       "      <td>180 days 21:45:00</td>\n",
       "    </tr>\n",
       "  </tbody>\n",
       "</table>\n",
       "</div>"
      ],
      "text/plain": [
       "      store_id          max_diff\n",
       "578        619 151 days 00:23:00\n",
       "1058      1139 159 days 00:06:00\n",
       "1090      1176 159 days 22:40:00\n",
       "1522      1650 161 days 22:28:00\n",
       "1630      1770 168 days 05:49:00\n",
       "414        447 169 days 22:45:00\n",
       "1355      1466 174 days 01:46:00\n",
       "1830      1989 175 days 17:52:00\n",
       "1325      1435 176 days 17:22:00\n",
       "720        772 180 days 21:45:00"
      ]
     },
     "execution_count": 64,
     "metadata": {
      "tags": []
     },
     "output_type": "execute_result"
    }
   ],
   "source": [
    "max_diff_df[max_diff_df.max_diff > timedelta(days = 150)].nsmallest(10, 'max_diff')"
   ]
  },
  {
   "cell_type": "code",
   "execution_count": null,
   "metadata": {
    "colab": {
     "base_uri": "https://localhost:8080/",
     "height": 253
    },
    "id": "B_QrpRmFR8aW",
    "outputId": "c45c1ec3-75ea-4510-823d-12191e6245fd"
   },
   "outputs": [
    {
     "data": {
      "text/plain": [
       "<matplotlib.axes._subplots.AxesSubplot at 0x7f33ee35ac18>"
      ]
     },
     "execution_count": 129,
     "metadata": {
      "tags": []
     },
     "output_type": "execute_result"
    },
    {
     "data": {
      "image/png": "[encoded data removed]",
      "text/plain": [
       "<Figure size 1440x432 with 1 Axes>"
      ]
     },
     "metadata": {
      "needs_background": "light",
      "tags": []
     },
     "output_type": "display_data"
    }
   ],
   "source": [
    "# 하나하나 store_id 넣어보며 살펴 봄\n",
    "plt.figure(figsize=(20,6))\n",
    "df[df.store_id==1435].transacted_date.dt.to_period(\"M\").value_counts().sort_index().plot.bar()\n",
    "\n",
    "# 150일 이상 폐점했던 기간이 있는 경우, 이전 매출과 비교했을 때 매출이 급증하는 양상을 보여준다."
   ]
  },
  {
   "cell_type": "code",
   "execution_count": 65,
   "metadata": {
    "colab": {
     "base_uri": "https://localhost:8080/"
    },
    "id": "qAbbiuXvUFAd",
    "outputId": "73d5a355-93bf-4429-84c4-fd884228460f"
   },
   "outputs": [
    {
     "data": {
      "text/plain": [
       "[69,\n",
       " 237,\n",
       " 257,\n",
       " 271,\n",
       " 279,\n",
       " 447,\n",
       " 506,\n",
       " 515,\n",
       " 588,\n",
       " 619,\n",
       " 632,\n",
       " 706,\n",
       " 772,\n",
       " 795,\n",
       " 1041,\n",
       " 1139,\n",
       " 1176,\n",
       " 1204,\n",
       " 1299,\n",
       " 1364,\n",
       " 1373,\n",
       " 1379,\n",
       " 1435,\n",
       " 1466,\n",
       " 1598,\n",
       " 1650,\n",
       " 1692,\n",
       " 1696,\n",
       " 1770,\n",
       " 1783,\n",
       " 1836,\n",
       " 1928,\n",
       " 1989,\n",
       " 2023,\n",
       " 2058,\n",
       " 2081,\n",
       " 2094]"
      ]
     },
     "execution_count": 65,
     "metadata": {
      "tags": []
     },
     "output_type": "execute_result"
    }
   ],
   "source": [
    "remodeling_store_id = max_diff_df[max_diff_df.max_diff > timedelta(days = 150)].store_id.tolist()\n",
    "remodeling_store_id"
   ]
  },
  {
   "cell_type": "code",
   "execution_count": 66,
   "metadata": {
    "colab": {
     "base_uri": "https://localhost:8080/"
    },
    "id": "i0NpEyX8UwUk",
    "outputId": "e39729a7-cda2-40b2-8334-fc7126d6a5df"
   },
   "outputs": [
    {
     "data": {
      "text/plain": [
       "37"
      ]
     },
     "execution_count": 66,
     "metadata": {
      "tags": []
     },
     "output_type": "execute_result"
    }
   ],
   "source": [
    "len(remodeling_store_id)"
   ]
  },
  {
   "cell_type": "markdown",
   "metadata": {
    "id": "7BCTXpc4f7_I"
   },
   "source": [
    "###4) feature 전처리 - type_of_business / region"
   ]
  },
  {
   "cell_type": "code",
   "execution_count": 68,
   "metadata": {
    "colab": {
     "base_uri": "https://localhost:8080/"
    },
    "id": "keOEBL3ehtUA",
    "outputId": "bf265366-a1dd-441e-d5ed-f1dd22123afe"
   },
   "outputs": [
    {
     "data": {
      "text/plain": [
       "type_of_business\n",
       "가구 소매업                3\n",
       "가전제품 소매업              3\n",
       "가정용 세탁업               5\n",
       "가정용 직물제품 소매업          2\n",
       "간이음식 포장 판매 전문점       18\n",
       "                     ..\n",
       "한의원                   1\n",
       "화장품 및 화장용품 도매업        7\n",
       "화장품, 비누 및 방향제 소매업    16\n",
       "화초 및 식물 소매업           8\n",
       "화훼류 및 식물 도매업          1\n",
       "Name: store_id, Length: 145, dtype: int64"
      ]
     },
     "execution_count": 68,
     "metadata": {
      "tags": []
     },
     "output_type": "execute_result"
    }
   ],
   "source": [
    "business_store_count = df.groupby('type_of_business').store_id.nunique()\n",
    "business_store_count"
   ]
  },
  {
   "cell_type": "code",
   "execution_count": 69,
   "metadata": {
    "id": "0tAA7rWKgEYU"
   },
   "outputs": [],
   "source": [
    "# 10개 이하의 스토어를 가지는 business type은 다 ETC로\n",
    "df.type_of_business = df.type_of_business.astype('object')\n",
    "df.loc[df.type_of_business.isin(business_store_count[business_store_count<=10].index), 'type_of_business'] = 'ETC'\n",
    "df.type_of_business = df.type_of_business.astype('category')"
   ]
  },
  {
   "cell_type": "code",
   "execution_count": 70,
   "metadata": {
    "colab": {
     "base_uri": "https://localhost:8080/"
    },
    "id": "se6zqpUDh7_q",
    "outputId": "1857d77a-106e-4343-b891-b9c9f9a9b98c"
   },
   "outputs": [
    {
     "data": {
      "text/plain": [
       "region\n",
       "경기 수원시     34\n",
       "충북 청주시     32\n",
       "경남 창원시     29\n",
       "경기 성남시     24\n",
       "경기 평택시     23\n",
       "경남 김해시     23\n",
       "제주 제주시     22\n",
       "서울 강남구     22\n",
       "경기 부천시     21\n",
       "충남 천안시     21\n",
       "경기 화성시     21\n",
       "서울 마포구     21\n",
       "대전 서구      20\n",
       "경기 용인시     20\n",
       "전북 전주시     20\n",
       "경북 포항시     19\n",
       "경기 남양주시    16\n",
       "울산 남구      16\n",
       "경북 경주시     16\n",
       "서울 송파구     16\n",
       "Name: store_id, dtype: int64"
      ]
     },
     "execution_count": 70,
     "metadata": {
      "tags": []
     },
     "output_type": "execute_result"
    }
   ],
   "source": [
    "region_count = df.groupby('region').store_id.nunique()\n",
    "region_count.sort_values(axis=0, ascending=False)[:20]"
   ]
  },
  {
   "cell_type": "code",
   "execution_count": 71,
   "metadata": {
    "id": "wA5Q88MKihqO"
   },
   "outputs": [],
   "source": [
    "# 지역은 다 도로 변환\n",
    "df.region = df.region.str[:2]\n",
    "df.region = df.region.astype('category')"
   ]
  },
  {
   "cell_type": "code",
   "execution_count": 72,
   "metadata": {
    "colab": {
     "base_uri": "https://localhost:8080/"
    },
    "id": "Zrh8enlsiksv",
    "outputId": "00db5358-3199-4c7b-9ee5-348447ccc26f"
   },
   "outputs": [
    {
     "data": {
      "text/plain": [
       "region\n",
       "경기    303\n",
       "서울    189\n",
       "부산    101\n",
       "경남     95\n",
       "경북     71\n",
       "인천     64\n",
       "대구     63\n",
       "충북     60\n",
       "충남     57\n",
       "강원     44\n",
       "전북     42\n",
       "광주     41\n",
       "전남     39\n",
       "울산     37\n",
       "대전     36\n",
       "제주     31\n",
       "세종      4\n",
       "Name: store_id, dtype: int64"
      ]
     },
     "execution_count": 72,
     "metadata": {
      "tags": []
     },
     "output_type": "execute_result"
    }
   ],
   "source": [
    "region_count = df.groupby('region').store_id.nunique()\n",
    "region_count.sort_values(axis=0, ascending=False)"
   ]
  },
  {
   "cell_type": "code",
   "execution_count": 73,
   "metadata": {
    "id": "7mTkoWPFj64I"
   },
   "outputs": [],
   "source": [
    "# type_of_business 결측치 채우기 ('ETC'로 채움)\n",
    "df.type_of_business = df.type_of_business.astype('object')\n",
    "df.type_of_business = df.type_of_business.fillna('ETC')\n",
    "df.type_of_business = df.type_of_business.astype('category')"
   ]
  },
  {
   "cell_type": "code",
   "execution_count": 74,
   "metadata": {
    "id": "DkseQM8Gkg3Y"
   },
   "outputs": [],
   "source": [
    "# region 결측치 채우기 ('ETC'로 채움)\n",
    "df.region = df.region.astype('object')\n",
    "df.region = df.region.fillna('ETC')\n",
    "df.region = df.region.astype('category')"
   ]
  },
  {
   "cell_type": "code",
   "execution_count": 75,
   "metadata": {
    "colab": {
     "base_uri": "https://localhost:8080/"
    },
    "id": "VMgzxRBDjLZE",
    "outputId": "a9e0c378-b9a1-40f1-e162-7eee7501ed20"
   },
   "outputs": [
    {
     "data": {
      "text/plain": [
       "store_id            0\n",
       "card_id             0\n",
       "card_company        0\n",
       "installment_term    0\n",
       "region              0\n",
       "type_of_business    0\n",
       "amount              0\n",
       "transaction_time    0\n",
       "dtype: int64"
      ]
     },
     "execution_count": 75,
     "metadata": {
      "tags": []
     },
     "output_type": "execute_result"
    }
   ],
   "source": [
    "# 결측치 확인용\n",
    "df.isnull().sum()"
   ]
  },
  {
   "cell_type": "markdown",
   "metadata": {
    "id": "5m8nxeoMbbie"
   },
   "source": [
    "##4.학습, 예측 데이터셋 만들기\n",
    "안창배 멘토님 코드 "
   ]
  },
  {
   "cell_type": "code",
   "execution_count": 82,
   "metadata": {
    "id": "dAQUhM5GMQwo"
   },
   "outputs": [],
   "source": [
    "def train_test_splitter(df):\n",
    "    '''\n",
    "    주어진 데이터 중 마지막 3개월을 y로 둔다\n",
    "    20%를 test로 분리\n",
    "    '''\n",
    "    y_bool = df.transaction_time >= datetime.datetime(2018, 12, 1)\n",
    "    y = df[y_bool].groupby('store_id').amount.sum()\n",
    "    X = df[~y_bool]\n",
    "    \n",
    "    train_index = y.sample(frac=0.8, random_state=85).index\n",
    "\n",
    "    train_X = X[X.store_id.isin(train_index)]\n",
    "    test_X = X[~X.store_id.isin(train_index)]\n",
    "\n",
    "    train_y = y[y.index.isin(train_index)]\n",
    "    test_y = y[~y.index.isin(train_index)]\n",
    "    \n",
    "    return train_X, test_X, train_y, test_y"
   ]
  },
  {
   "cell_type": "code",
   "execution_count": 83,
   "metadata": {
    "id": "DlisCWcJMvhO"
   },
   "outputs": [],
   "source": [
    "train_X, test_X, train_y, test_y = train_test_splitter(df)"
   ]
  },
  {
   "cell_type": "code",
   "execution_count": 84,
   "metadata": {
    "colab": {
     "base_uri": "https://localhost:8080/"
    },
    "id": "6s5RWoeCuN_e",
    "outputId": "5e2b60db-b89b-40a0-b922-de21b1a6002f"
   },
   "outputs": [
    {
     "name": "stdout",
     "output_type": "stream",
     "text": [
      "(4584100, 8) (1560,)\n"
     ]
    }
   ],
   "source": [
    "print(train_X.shape, train_y.shape)"
   ]
  },
  {
   "cell_type": "code",
   "execution_count": 85,
   "metadata": {
    "colab": {
     "base_uri": "https://localhost:8080/"
    },
    "id": "YH6UDac-uQTe",
    "outputId": "da1b7459-3d35-49fa-8bcb-144b56779832"
   },
   "outputs": [
    {
     "name": "stdout",
     "output_type": "stream",
     "text": [
      "(1270937, 8) (390,)\n"
     ]
    }
   ],
   "source": [
    "print(test_X.shape, test_y.shape)"
   ]
  },
  {
   "cell_type": "markdown",
   "metadata": {
    "id": "1QgkkHLSITm9"
   },
   "source": [
    "##5.feature engineering "
   ]
  },
  {
   "cell_type": "code",
   "execution_count": 88,
   "metadata": {
    "id": "fHTpfEmQ3GLO"
   },
   "outputs": [],
   "source": [
    "def feature_extractor_each(store_id, group):\n",
    "    # 평균 거래량\n",
    "    mean_log_count = group.groupby('card_id').size().mean()\n",
    "    \n",
    "    # 최근 4개월간의 판매량\n",
    "    recent_four_month = group.loc[group.transaction_time >= (datetime.datetime(2018, 12, 1) - relativedelta.relativedelta(months=4)), 'amount'].sum() * (3 / 4)\n",
    "\n",
    "    # 최근 1개월간의 판매량\n",
    "    recent_one_month = group.loc[group.transaction_time >= (datetime.datetime(2018, 12, 1) - relativedelta.relativedelta(months=1)), 'amount'].sum() * (3 / 1)\n",
    "\n",
    "    # 최근 1년간의 판매량\n",
    "    recent_one_year = group.loc[group.transaction_time >= (datetime.datetime(2018, 12, 1) - relativedelta.relativedelta(months=12)), 'amount'].sum() * (3 / 12)\n",
    "\n",
    "    # 가장 거래가 많은 시간\n",
    "    most_hour = group.transaction_time.dt.hour.value_counts().nlargest(1).index[0]\n",
    "\n",
    "    # 가장 많은 지역, 가장 많은 type_of_business 해봤는데 중요하지 않은 피처로 판단되어 제거하였음\n",
    "\n",
    "    return [store_id, \n",
    "            mean_log_count, recent_four_month, recent_one_month,\n",
    "            recent_one_year, most_hour]"
   ]
  },
  {
   "cell_type": "code",
   "execution_count": 97,
   "metadata": {
    "id": "vwqXemo581Le"
   },
   "outputs": [],
   "source": [
    "def feature_extractor(df):\n",
    "  res = []\n",
    "  for store_id, group in tqdm(df.groupby('store_id')):\n",
    "      res.append(feature_extracto_eachr(store_id, group))\n",
    "\n",
    "  feature_df = pd.DataFrame(res, columns=['store_id',\n",
    "                      'mean_log_count', 'recent_four_month', 'recent_one_month',\n",
    "                      'recent_one_year', 'most_hour'])\n",
    "  return feature_df"
   ]
  },
  {
   "cell_type": "code",
   "execution_count": 98,
   "metadata": {
    "colab": {
     "base_uri": "https://localhost:8080/"
    },
    "id": "SBVE3EIzAB-9",
    "outputId": "18f6d1f1-2a12-4b9e-a052-e84d03831707"
   },
   "outputs": [
    {
     "name": "stderr",
     "output_type": "stream",
     "text": [
      "\n",
      "\n",
      "  0%|          | 0/1560 [00:00<?, ?it/s]\u001b[A\u001b[A\n",
      "\n",
      "  0%|          | 1/1560 [00:00<06:05,  4.26it/s]\u001b[A\u001b[A\n",
      "\n",
      "  2%|▏         | 28/1560 [00:00<04:13,  6.05it/s]\u001b[A\u001b[A\n",
      "\n",
      "  4%|▎         | 55/1560 [00:00<02:55,  8.55it/s]\u001b[A\u001b[A\n",
      "\n",
      "  5%|▌         | 81/1560 [00:00<02:02, 12.05it/s]\u001b[A\u001b[A\n",
      "\n",
      "  7%|▋         | 108/1560 [00:00<01:26, 16.88it/s]\u001b[A\u001b[A\n",
      "\n",
      "  9%|▊         | 136/1560 [00:00<01:00, 23.50it/s]\u001b[A\u001b[A\n",
      "\n",
      " 10%|█         | 163/1560 [00:00<00:43, 32.35it/s]\u001b[A\u001b[A\n",
      "\n",
      " 12%|█▏        | 190/1560 [00:00<00:31, 43.95it/s]\u001b[A\u001b[A\n",
      "\n",
      " 14%|█▍        | 218/1560 [00:01<00:22, 58.77it/s]\u001b[A\u001b[A\n",
      "\n",
      " 16%|█▌        | 247/1560 [00:01<00:17, 77.05it/s]\u001b[A\u001b[A\n",
      "\n",
      " 18%|█▊        | 274/1560 [00:01<00:13, 97.68it/s]\u001b[A\u001b[A\n",
      "\n",
      " 19%|█▉        | 302/1560 [00:01<00:10, 121.17it/s]\u001b[A\u001b[A\n",
      "\n",
      " 21%|██        | 329/1560 [00:01<00:08, 144.98it/s]\u001b[A\u001b[A\n",
      "\n",
      " 23%|██▎       | 356/1560 [00:01<00:07, 167.19it/s]\u001b[A\u001b[A\n",
      "\n",
      " 25%|██▍       | 383/1560 [00:01<00:06, 188.71it/s]\u001b[A\u001b[A\n",
      "\n",
      " 26%|██▋       | 411/1560 [00:01<00:05, 207.79it/s]\u001b[A\u001b[A\n",
      "\n",
      " 28%|██▊       | 438/1560 [00:01<00:05, 221.45it/s]\u001b[A\u001b[A\n",
      "\n",
      " 30%|██▉       | 465/1560 [00:01<00:04, 228.67it/s]\u001b[A\u001b[A\n",
      "\n",
      " 32%|███▏      | 492/1560 [00:02<00:04, 238.54it/s]\u001b[A\u001b[A\n",
      "\n",
      " 33%|███▎      | 519/1560 [00:02<00:04, 242.00it/s]\u001b[A\u001b[A\n",
      "\n",
      " 35%|███▌      | 546/1560 [00:02<00:04, 247.68it/s]\u001b[A\u001b[A\n",
      "\n",
      " 37%|███▋      | 572/1560 [00:02<00:03, 249.11it/s]\u001b[A\u001b[A\n",
      "\n",
      " 38%|███▊      | 599/1560 [00:02<00:03, 253.01it/s]\u001b[A\u001b[A\n",
      "\n",
      " 40%|████      | 625/1560 [00:02<00:03, 254.17it/s]\u001b[A\u001b[A\n",
      "\n",
      " 42%|████▏     | 651/1560 [00:02<00:03, 253.82it/s]\u001b[A\u001b[A\n",
      "\n",
      " 43%|████▎     | 678/1560 [00:02<00:03, 257.10it/s]\u001b[A\u001b[A\n",
      "\n",
      " 45%|████▌     | 704/1560 [00:02<00:03, 255.90it/s]\u001b[A\u001b[A\n",
      "\n",
      " 47%|████▋     | 730/1560 [00:03<00:03, 256.10it/s]\u001b[A\u001b[A\n",
      "\n",
      " 49%|████▊     | 758/1560 [00:03<00:03, 260.37it/s]\u001b[A\u001b[A\n",
      "\n",
      " 50%|█████     | 785/1560 [00:03<00:02, 261.76it/s]\u001b[A\u001b[A\n",
      "\n",
      " 52%|█████▏    | 812/1560 [00:03<00:02, 257.81it/s]\u001b[A\u001b[A\n",
      "\n",
      " 54%|█████▍    | 840/1560 [00:03<00:02, 262.33it/s]\u001b[A\u001b[A\n",
      "\n",
      " 56%|█████▌    | 867/1560 [00:03<00:02, 262.61it/s]\u001b[A\u001b[A\n",
      "\n",
      " 57%|█████▋    | 894/1560 [00:03<00:02, 261.74it/s]\u001b[A\u001b[A\n",
      "\n",
      " 59%|█████▉    | 921/1560 [00:03<00:02, 263.63it/s]\u001b[A\u001b[A\n",
      "\n",
      " 61%|██████    | 948/1560 [00:03<00:02, 258.48it/s]\u001b[A\u001b[A\n",
      "\n",
      " 62%|██████▎   | 975/1560 [00:03<00:02, 261.52it/s]\u001b[A\u001b[A\n",
      "\n",
      " 64%|██████▍   | 1002/1560 [00:04<00:02, 259.53it/s]\u001b[A\u001b[A\n",
      "\n",
      " 66%|██████▌   | 1029/1560 [00:04<00:02, 261.28it/s]\u001b[A\u001b[A\n",
      "\n",
      " 68%|██████▊   | 1056/1560 [00:04<00:01, 259.45it/s]\u001b[A\u001b[A\n",
      "\n",
      " 69%|██████▉   | 1082/1560 [00:04<00:01, 259.27it/s]\u001b[A\u001b[A\n",
      "\n",
      " 71%|███████   | 1109/1560 [00:04<00:01, 260.18it/s]\u001b[A\u001b[A\n",
      "\n",
      " 73%|███████▎  | 1137/1560 [00:04<00:01, 262.70it/s]\u001b[A\u001b[A\n",
      "\n",
      " 75%|███████▍  | 1165/1560 [00:04<00:01, 266.20it/s]\u001b[A\u001b[A\n",
      "\n",
      " 76%|███████▋  | 1192/1560 [00:04<00:01, 262.13it/s]\u001b[A\u001b[A\n",
      "\n",
      " 78%|███████▊  | 1220/1560 [00:04<00:01, 266.19it/s]\u001b[A\u001b[A\n",
      "\n",
      " 80%|████████  | 1248/1560 [00:04<00:01, 267.22it/s]\u001b[A\u001b[A\n",
      "\n",
      " 82%|████████▏ | 1275/1560 [00:05<00:01, 259.17it/s]\u001b[A\u001b[A\n",
      "\n",
      " 83%|████████▎ | 1302/1560 [00:05<00:00, 260.91it/s]\u001b[A\u001b[A\n",
      "\n",
      " 85%|████████▌ | 1329/1560 [00:05<00:00, 261.37it/s]\u001b[A\u001b[A\n",
      "\n",
      " 87%|████████▋ | 1356/1560 [00:05<00:00, 262.58it/s]\u001b[A\u001b[A\n",
      "\n",
      " 89%|████████▊ | 1383/1560 [00:05<00:00, 258.96it/s]\u001b[A\u001b[A\n",
      "\n",
      " 90%|█████████ | 1410/1560 [00:05<00:00, 259.70it/s]\u001b[A\u001b[A\n",
      "\n",
      " 92%|█████████▏| 1437/1560 [00:05<00:00, 260.48it/s]\u001b[A\u001b[A\n",
      "\n",
      " 94%|█████████▍| 1464/1560 [00:05<00:00, 258.62it/s]\u001b[A\u001b[A\n",
      "\n",
      " 96%|█████████▌| 1491/1560 [00:05<00:00, 260.89it/s]\u001b[A\u001b[A\n",
      "\n",
      " 97%|█████████▋| 1518/1560 [00:06<00:00, 256.32it/s]\u001b[A\u001b[A\n",
      "\n",
      "100%|██████████| 1560/1560 [00:06<00:00, 252.29it/s]\n",
      "\n",
      "\n",
      "  0%|          | 0/407 [00:00<?, ?it/s]\u001b[A\u001b[A\n",
      "\n",
      "  2%|▏         | 10/407 [00:00<00:04, 97.79it/s]\u001b[A\u001b[A\n",
      "\n",
      "  9%|▉         | 37/407 [00:00<00:03, 120.79it/s]\u001b[A\u001b[A\n",
      "\n",
      " 15%|█▌        | 63/407 [00:00<00:02, 143.63it/s]\u001b[A\u001b[A\n",
      "\n",
      " 22%|██▏       | 91/407 [00:00<00:01, 167.53it/s]\u001b[A\u001b[A\n",
      "\n",
      " 29%|██▉       | 119/407 [00:00<00:01, 189.09it/s]\u001b[A\u001b[A\n",
      "\n",
      " 36%|███▌      | 146/407 [00:00<00:01, 206.75it/s]\u001b[A\u001b[A\n",
      "\n",
      " 42%|████▏     | 172/407 [00:00<00:01, 219.45it/s]\u001b[A\u001b[A\n",
      "\n",
      " 48%|████▊     | 196/407 [00:00<00:00, 223.05it/s]\u001b[A\u001b[A\n",
      "\n",
      " 55%|█████▍    | 223/407 [00:00<00:00, 234.92it/s]\u001b[A\u001b[A\n",
      "\n",
      " 61%|██████    | 248/407 [00:01<00:00, 239.17it/s]\u001b[A\u001b[A\n",
      "\n",
      " 68%|██████▊   | 275/407 [00:01<00:00, 245.26it/s]\u001b[A\u001b[A\n",
      "\n",
      " 74%|███████▍  | 302/407 [00:01<00:00, 250.64it/s]\u001b[A\u001b[A\n",
      "\n",
      " 81%|████████  | 329/407 [00:01<00:00, 255.05it/s]\u001b[A\u001b[A\n",
      "\n",
      " 87%|████████▋ | 356/407 [00:01<00:00, 257.39it/s]\u001b[A\u001b[A\n",
      "\n",
      "100%|██████████| 407/407 [00:01<00:00, 250.65it/s]"
     ]
    },
    {
     "name": "stdout",
     "output_type": "stream",
     "text": [
      "CPU times: user 7.91 s, sys: 57.2 ms, total: 7.97 s\n",
      "Wall time: 7.99 s\n"
     ]
    },
    {
     "name": "stderr",
     "output_type": "stream",
     "text": [
      "\n"
     ]
    }
   ],
   "source": [
    "%%time\n",
    "feature_train_X = feature_extractor(train_X)\n",
    "feature_test_X = feature_extractor(test_X)"
   ]
  },
  {
   "cell_type": "code",
   "execution_count": 100,
   "metadata": {
    "colab": {
     "base_uri": "https://localhost:8080/",
     "height": 422
    },
    "id": "AxAepS419O4s",
    "outputId": "a4f259bb-fbbe-43c0-82e1-60f172973447"
   },
   "outputs": [
    {
     "data": {
      "text/html": [
       "<div>\n",
       "<style scoped>\n",
       "    .dataframe tbody tr th:only-of-type {\n",
       "        vertical-align: middle;\n",
       "    }\n",
       "\n",
       "    .dataframe tbody tr th {\n",
       "        vertical-align: top;\n",
       "    }\n",
       "\n",
       "    .dataframe thead th {\n",
       "        text-align: right;\n",
       "    }\n",
       "</style>\n",
       "<table border=\"1\" class=\"dataframe\">\n",
       "  <thead>\n",
       "    <tr style=\"text-align: right;\">\n",
       "      <th></th>\n",
       "      <th>store_id</th>\n",
       "      <th>mean_log_count</th>\n",
       "      <th>recent_four_month</th>\n",
       "      <th>recent_one_month</th>\n",
       "      <th>recent_one_year</th>\n",
       "      <th>most_hour</th>\n",
       "    </tr>\n",
       "  </thead>\n",
       "  <tbody>\n",
       "    <tr>\n",
       "      <th>0</th>\n",
       "      <td>0</td>\n",
       "      <td>2.434886</td>\n",
       "      <td>2.060036e+06</td>\n",
       "      <td>2.028000e+06</td>\n",
       "      <td>2.131714e+06</td>\n",
       "      <td>18</td>\n",
       "    </tr>\n",
       "    <tr>\n",
       "      <th>1</th>\n",
       "      <td>1</td>\n",
       "      <td>2.486172</td>\n",
       "      <td>2.486250e+05</td>\n",
       "      <td>2.408571e+05</td>\n",
       "      <td>2.781964e+05</td>\n",
       "      <td>14</td>\n",
       "    </tr>\n",
       "    <tr>\n",
       "      <th>2</th>\n",
       "      <td>2</td>\n",
       "      <td>1.422535</td>\n",
       "      <td>1.225500e+06</td>\n",
       "      <td>5.562857e+05</td>\n",
       "      <td>1.118750e+06</td>\n",
       "      <td>16</td>\n",
       "    </tr>\n",
       "    <tr>\n",
       "      <th>3</th>\n",
       "      <td>4</td>\n",
       "      <td>1.173714</td>\n",
       "      <td>2.444143e+06</td>\n",
       "      <td>2.649000e+06</td>\n",
       "      <td>2.539857e+06</td>\n",
       "      <td>19</td>\n",
       "    </tr>\n",
       "    <tr>\n",
       "      <th>4</th>\n",
       "      <td>5</td>\n",
       "      <td>1.489167</td>\n",
       "      <td>1.039586e+06</td>\n",
       "      <td>1.149900e+06</td>\n",
       "      <td>1.203882e+06</td>\n",
       "      <td>19</td>\n",
       "    </tr>\n",
       "    <tr>\n",
       "      <th>...</th>\n",
       "      <td>...</td>\n",
       "      <td>...</td>\n",
       "      <td>...</td>\n",
       "      <td>...</td>\n",
       "      <td>...</td>\n",
       "      <td>...</td>\n",
       "    </tr>\n",
       "    <tr>\n",
       "      <th>1555</th>\n",
       "      <td>2132</td>\n",
       "      <td>2.565915</td>\n",
       "      <td>2.122714e+06</td>\n",
       "      <td>2.189571e+06</td>\n",
       "      <td>2.291607e+06</td>\n",
       "      <td>12</td>\n",
       "    </tr>\n",
       "    <tr>\n",
       "      <th>1556</th>\n",
       "      <td>2133</td>\n",
       "      <td>1.888415</td>\n",
       "      <td>8.523214e+05</td>\n",
       "      <td>2.541429e+05</td>\n",
       "      <td>1.171211e+06</td>\n",
       "      <td>16</td>\n",
       "    </tr>\n",
       "    <tr>\n",
       "      <th>1557</th>\n",
       "      <td>2134</td>\n",
       "      <td>1.803063</td>\n",
       "      <td>1.090183e+05</td>\n",
       "      <td>1.823571e+05</td>\n",
       "      <td>4.724287e+05</td>\n",
       "      <td>12</td>\n",
       "    </tr>\n",
       "    <tr>\n",
       "      <th>1558</th>\n",
       "      <td>2135</td>\n",
       "      <td>1.373433</td>\n",
       "      <td>1.886893e+06</td>\n",
       "      <td>1.768286e+06</td>\n",
       "      <td>1.672304e+06</td>\n",
       "      <td>22</td>\n",
       "    </tr>\n",
       "    <tr>\n",
       "      <th>1559</th>\n",
       "      <td>2136</td>\n",
       "      <td>1.384506</td>\n",
       "      <td>6.109243e+06</td>\n",
       "      <td>6.406286e+06</td>\n",
       "      <td>6.397896e+06</td>\n",
       "      <td>23</td>\n",
       "    </tr>\n",
       "  </tbody>\n",
       "</table>\n",
       "<p>1560 rows × 6 columns</p>\n",
       "</div>"
      ],
      "text/plain": [
       "      store_id  mean_log_count  ...  recent_one_year  most_hour\n",
       "0            0        2.434886  ...     2.131714e+06         18\n",
       "1            1        2.486172  ...     2.781964e+05         14\n",
       "2            2        1.422535  ...     1.118750e+06         16\n",
       "3            4        1.173714  ...     2.539857e+06         19\n",
       "4            5        1.489167  ...     1.203882e+06         19\n",
       "...        ...             ...  ...              ...        ...\n",
       "1555      2132        2.565915  ...     2.291607e+06         12\n",
       "1556      2133        1.888415  ...     1.171211e+06         16\n",
       "1557      2134        1.803063  ...     4.724287e+05         12\n",
       "1558      2135        1.373433  ...     1.672304e+06         22\n",
       "1559      2136        1.384506  ...     6.397896e+06         23\n",
       "\n",
       "[1560 rows x 6 columns]"
      ]
     },
     "execution_count": 100,
     "metadata": {
      "tags": []
     },
     "output_type": "execute_result"
    }
   ],
   "source": [
    "feature_train_X"
   ]
  },
  {
   "cell_type": "code",
   "execution_count": 101,
   "metadata": {
    "id": "VHA8C-2oONRa"
   },
   "outputs": [],
   "source": [
    "# X와 y사이의 store가 아귀가 맞는지 (train)\n",
    "s1 = set(feature_train_X.store_id)\n",
    "s2 = set(train_y.index)\n",
    "assert len(s1) == len(s2) == len(s1&s2)"
   ]
  },
  {
   "cell_type": "code",
   "execution_count": 102,
   "metadata": {
    "id": "cStCMk7-SRGk"
   },
   "outputs": [],
   "source": [
    "# X와 y사이의 store가 아귀가 맞는지 (test)\n",
    "s1 = set(feature_test_X.store_id)\n",
    "s2 = set(test_y.index)\n",
    "if not len(s1) == len(s2) == len(s1&s2):\n",
    "    inter_set = s1&s2\n",
    "    feature_test_X = feature_test_X[feature_test_X.store_id.isin(inter_set)]\n",
    "    test_y = test_y[test_y.index.isin(inter_set)]"
   ]
  },
  {
   "cell_type": "markdown",
   "metadata": {
    "id": "q3GQZ3wLbx6v"
   },
   "source": [
    "##6.머신러닝 알고리즘 가져오기\n"
   ]
  },
  {
   "cell_type": "code",
   "execution_count": 103,
   "metadata": {
    "colab": {
     "base_uri": "https://localhost:8080/"
    },
    "id": "7ZsZ2iBRSTzA",
    "outputId": "869ff5eb-2a3e-4266-8b58-90d9c7141168"
   },
   "outputs": [
    {
     "name": "stdout",
     "output_type": "stream",
     "text": [
      "train MAE: 315898.9631\n",
      "test MAE: 733748.6894\n"
     ]
    }
   ],
   "source": [
    "# 안창배 멘토님 코드\n",
    "from sklearn.ensemble import RandomForestRegressor\n",
    "from sklearn.datasets import make_classification\n",
    "clf = RandomForestRegressor(random_state=85)\n",
    "clf.fit(feature_train_X, train_y)\n",
    "\n",
    "train_pred_y = clf.predict(feature_train_X)\n",
    "print(f\"train MAE: {np.mean(abs(train_y - train_pred_y)):.4f}\")\n",
    "\n",
    "test_pred_y = clf.predict(feature_test_X)\n",
    "print(f\"test MAE: {np.mean(abs(test_y - test_pred_y)):.4f}\")"
   ]
  },
  {
   "cell_type": "markdown",
   "metadata": {
    "id": "XoVLO78qTL01"
   },
   "source": [
    "RadomizedSearchCV 구현"
   ]
  },
  {
   "cell_type": "code",
   "execution_count": 104,
   "metadata": {
    "colab": {
     "base_uri": "https://localhost:8080/"
    },
    "id": "1-f6eezKuRoB",
    "outputId": "da374f09-0541-47a6-a69c-ed64163bced9"
   },
   "outputs": [
    {
     "data": {
      "text/plain": [
       "[DecisionTreeRegressor(ccp_alpha=0.0, criterion='mse', max_depth=None,\n",
       "                       max_features=None, max_leaf_nodes=None,\n",
       "                       min_impurity_decrease=0.0, min_impurity_split=None,\n",
       "                       min_samples_leaf=1, min_samples_split=2,\n",
       "                       min_weight_fraction_leaf=0.0, presort='deprecated',\n",
       "                       random_state=42, splitter='best'),\n",
       " RandomForestRegressor(bootstrap=True, ccp_alpha=0.0, criterion='mse',\n",
       "                       max_depth=None, max_features='auto', max_leaf_nodes=None,\n",
       "                       max_samples=None, min_impurity_decrease=0.0,\n",
       "                       min_impurity_split=None, min_samples_leaf=1,\n",
       "                       min_samples_split=2, min_weight_fraction_leaf=0.0,\n",
       "                       n_estimators=100, n_jobs=None, oob_score=False,\n",
       "                       random_state=42, verbose=0, warm_start=False),\n",
       " GradientBoostingRegressor(alpha=0.9, ccp_alpha=0.0, criterion='friedman_mse',\n",
       "                           init=None, learning_rate=0.1, loss='ls', max_depth=3,\n",
       "                           max_features=None, max_leaf_nodes=None,\n",
       "                           min_impurity_decrease=0.0, min_impurity_split=None,\n",
       "                           min_samples_leaf=1, min_samples_split=2,\n",
       "                           min_weight_fraction_leaf=0.0, n_estimators=100,\n",
       "                           n_iter_no_change=None, presort='deprecated',\n",
       "                           random_state=42, subsample=1.0, tol=0.0001,\n",
       "                           validation_fraction=0.1, verbose=0, warm_start=False)]"
      ]
     },
     "execution_count": 104,
     "metadata": {
      "tags": []
     },
     "output_type": "execute_result"
    }
   ],
   "source": [
    "from sklearn.tree import DecisionTreeRegressor\n",
    "from sklearn.ensemble import RandomForestRegressor, GradientBoostingRegressor\n",
    "\n",
    "estimators = [\n",
    "    DecisionTreeRegressor(random_state=42),\n",
    "    RandomForestRegressor(random_state=42),\n",
    "    GradientBoostingRegressor(random_state=42)\n",
    "]\n",
    "estimators"
   ]
  },
  {
   "cell_type": "code",
   "execution_count": 105,
   "metadata": {
    "colab": {
     "base_uri": "https://localhost:8080/",
     "height": 136
    },
    "id": "ZSuACaeDulTt",
    "outputId": "11040d77-ba6e-44f5-acf4-59bee2ea5d04"
   },
   "outputs": [
    {
     "data": {
      "text/html": [
       "<div>\n",
       "<style scoped>\n",
       "    .dataframe tbody tr th:only-of-type {\n",
       "        vertical-align: middle;\n",
       "    }\n",
       "\n",
       "    .dataframe tbody tr th {\n",
       "        vertical-align: top;\n",
       "    }\n",
       "\n",
       "    .dataframe thead th {\n",
       "        text-align: right;\n",
       "    }\n",
       "</style>\n",
       "<table border=\"1\" class=\"dataframe\">\n",
       "  <thead>\n",
       "    <tr style=\"text-align: right;\">\n",
       "      <th></th>\n",
       "      <th>0</th>\n",
       "    </tr>\n",
       "  </thead>\n",
       "  <tbody>\n",
       "    <tr>\n",
       "      <th>0</th>\n",
       "      <td>DecisionTreeRegressor</td>\n",
       "    </tr>\n",
       "    <tr>\n",
       "      <th>1</th>\n",
       "      <td>RandomForestRegressor</td>\n",
       "    </tr>\n",
       "    <tr>\n",
       "      <th>2</th>\n",
       "      <td>GradientBoostingRegressor</td>\n",
       "    </tr>\n",
       "  </tbody>\n",
       "</table>\n",
       "</div>"
      ],
      "text/plain": [
       "                           0\n",
       "0      DecisionTreeRegressor\n",
       "1      RandomForestRegressor\n",
       "2  GradientBoostingRegressor"
      ]
     },
     "execution_count": 105,
     "metadata": {
      "tags": []
     },
     "output_type": "execute_result"
    }
   ],
   "source": [
    "results = []\n",
    "for estimator in estimators:\n",
    "    result = []\n",
    "    result.append(estimator.__class__.__name__)\n",
    "    results.append(result)\n",
    "\n",
    "pd.DataFrame(results)"
   ]
  },
  {
   "cell_type": "code",
   "execution_count": 106,
   "metadata": {
    "colab": {
     "base_uri": "https://localhost:8080/"
    },
    "id": "WfhClhjlvAVe",
    "outputId": "8e3db751-c61b-4f12-ba59-52f78a5d0991"
   },
   "outputs": [
    {
     "data": {
      "text/plain": [
       "{'max_depth': array([27, 24, 28, 23, 27, 19, 28, 10, 12, 21, 29, 12, 21, 12, 22, 25, 13,\n",
       "        11, 24, 28, 29, 10, 21, 12, 22, 10, 25, 12, 10, 28, 23, 29, 17, 21,\n",
       "        14, 22, 11, 20, 19, 13, 19, 12, 10, 20, 11, 21, 29, 21, 12, 18, 10,\n",
       "        28, 13, 20, 17, 16, 17, 14, 17, 27, 21, 10, 16, 25, 25, 21, 16, 21,\n",
       "        11, 15, 28, 13, 24, 17, 11, 17, 12, 25, 25, 10, 11, 18, 25, 27, 12,\n",
       "        13, 24, 25, 29, 15, 25, 19, 10, 28, 27, 13, 24, 27, 26, 27, 28, 13,\n",
       "        20, 15, 20, 21, 10, 14, 28, 10, 15, 18, 10, 25, 13, 13, 16, 29, 25,\n",
       "        19, 21, 23, 24, 20, 19, 14, 21, 13, 28, 11, 27, 28, 29, 23, 27, 19,\n",
       "        18, 25, 12, 29, 19, 10, 21, 24, 11, 17, 28, 12, 22, 20, 26, 25, 16,\n",
       "        20, 18, 12, 24, 12, 17, 15, 12, 16, 18, 24, 22, 22, 21, 22, 22, 20,\n",
       "        16, 25, 14, 14, 21, 17, 23, 29, 10, 26, 24, 14, 17, 26, 21, 25, 14,\n",
       "        15, 18, 16, 24, 22, 24, 21, 29, 22, 26, 13, 28, 25, 28, 22, 20, 22,\n",
       "        22, 19, 23, 26, 14, 18, 21, 23, 11, 10, 21, 22, 18, 12, 16, 25, 27,\n",
       "        17, 26, 13, 20, 29, 20, 20, 18, 16, 20, 29, 26, 28, 17, 12, 24, 25,\n",
       "        10, 22, 10, 28, 19, 10, 17, 25, 12, 15, 15, 28, 21, 10, 15, 11, 18,\n",
       "        25, 21, 29, 20, 10, 19, 14, 28, 14, 11, 10, 18, 13, 26, 26, 13, 13,\n",
       "        16, 26, 17, 17, 26, 17, 17, 21, 29, 21, 23, 21, 23, 23, 28, 23, 10,\n",
       "        22, 27, 29, 20, 17, 12, 28, 11, 10, 15, 16, 10, 12, 21, 12, 26, 26,\n",
       "        13, 15, 25, 22, 17, 21, 28, 25, 15, 20, 12, 19, 19, 14, 19, 20, 26,\n",
       "        21, 12, 21, 29, 13, 29, 12, 23, 22, 17, 15, 27, 12, 20, 17, 21, 25,\n",
       "        15, 16, 11, 16, 26, 19, 17, 15, 20, 19, 17, 25, 11, 26, 27, 22, 17,\n",
       "        24, 16, 25, 22, 15, 24, 25, 15, 12, 22, 27, 26, 26, 14, 16, 29, 25,\n",
       "        21, 28, 24, 12, 25, 14, 14, 29, 18, 15, 12, 29, 19, 15, 23, 27, 28,\n",
       "        20, 24, 29, 21, 16, 20, 12, 25, 21, 26, 26, 11, 27, 25, 24, 26, 25,\n",
       "        15, 11, 22, 27, 11, 12, 24, 18, 20, 23, 28, 18, 19, 17, 25, 18, 10,\n",
       "        29, 21, 23, 13, 10, 21, 16, 15, 27, 24, 29, 14, 24, 29, 26, 26, 20,\n",
       "        28, 17, 17, 21, 28, 11, 28, 16, 16, 18, 18, 20, 12, 20, 29, 24, 12,\n",
       "        21, 12, 14, 17, 18, 22, 10, 16, 27, 18, 11, 21, 20, 17, 10, 15, 18,\n",
       "        28, 21, 19, 20, 26, 14, 11, 13, 13, 16, 29, 23, 13, 21, 21, 25, 21,\n",
       "        11, 22, 16, 21, 26, 24, 20, 29, 23, 21, 18, 10, 26, 27, 18, 14, 25,\n",
       "        21, 21, 24, 28, 21, 10, 11, 19, 27, 17, 23, 13, 23, 12, 27, 18, 16,\n",
       "        15, 10, 21, 26, 14, 29, 26, 27, 20, 21, 10, 18, 27, 26, 21, 19, 10,\n",
       "        12, 25, 28, 10, 17, 22, 10, 17, 10, 24, 21, 14, 25, 22, 28, 29, 19,\n",
       "        24, 10, 12, 24, 10, 21, 23, 18, 25, 24, 28, 25, 12, 27, 26, 10, 21,\n",
       "        28, 17, 17, 24, 14, 20, 10, 11, 24, 16, 23, 25, 21, 10, 29, 22, 23,\n",
       "        12, 24, 26, 18, 11, 19, 17, 23, 15, 14, 18, 15, 16, 26, 20, 12, 22,\n",
       "        26, 29, 20, 14, 20, 19, 20, 17, 13, 26, 29, 17, 12, 24, 13, 16, 13,\n",
       "        22, 16, 28, 21, 12, 15, 24, 20, 26, 13, 16, 27, 26, 18, 10, 27, 10,\n",
       "        16, 11, 10, 25, 13, 10, 23, 16, 23, 13, 11, 17, 13, 15, 24, 27, 26,\n",
       "        22, 22, 13, 27, 17, 14, 17, 15, 21, 14, 13, 18, 12, 29, 19, 24, 21,\n",
       "        14, 19, 23, 18, 22, 10, 29, 27, 24, 18, 20, 24, 19, 18, 21, 13, 29,\n",
       "        12, 11, 23, 15, 14, 23, 13, 27, 16, 22, 26, 29, 25, 18, 21, 23, 15,\n",
       "        27, 12, 13, 18, 14, 19, 24, 22, 12, 10, 20, 18, 18, 11, 13, 15, 26,\n",
       "        16, 13, 10, 21, 29, 24, 14, 12, 20, 11, 25, 21, 24, 11, 22, 14, 12,\n",
       "        20, 28, 19, 24, 28, 27, 11, 20, 25, 27, 14, 15, 13, 26, 28, 17, 22,\n",
       "        25, 17, 13, 29, 21, 12, 10, 29, 18, 29, 23, 20, 14, 27, 25, 19, 11,\n",
       "        23, 10, 22, 27, 19, 11, 20, 15, 14, 15, 17, 27, 29, 10, 20, 10, 26,\n",
       "        27, 18, 26, 26, 19, 14, 14, 15, 12, 14, 17, 19, 16, 21, 22, 17, 24,\n",
       "        28, 20, 11, 21, 18, 13, 26, 19, 22, 19, 11, 16, 13, 11, 23, 26, 10,\n",
       "        22, 12, 22, 24, 13, 13, 11, 25, 14, 27, 29, 21, 10, 16, 11, 17, 15,\n",
       "        16, 24, 26, 12, 22, 22, 12, 11, 15, 24, 19, 24, 28, 12, 23, 12, 11,\n",
       "        25, 14, 25, 14, 20, 16, 28, 26, 28, 26, 23, 18, 16, 23, 17, 21, 28,\n",
       "        23, 12, 22, 10, 18, 25, 25, 22, 25, 10, 19, 26, 29, 16, 14, 26, 25,\n",
       "        27, 15, 20, 23, 28, 26, 16, 10, 28, 22, 13, 25, 27, 27, 22, 16, 29,\n",
       "        13, 19, 16, 18, 28, 29, 13, 12, 29, 12, 17, 26, 26, 11, 22, 14, 18,\n",
       "        21, 23, 14, 22, 29, 12, 22, 27, 21, 23, 14, 28, 29, 13, 22, 20, 14,\n",
       "        25, 17, 16, 10, 13, 21, 14, 20, 13, 25, 20, 10, 23, 24, 15, 18, 16,\n",
       "        15, 27, 19, 17, 22, 12, 19, 18, 18, 28, 18, 12, 25, 17, 26, 19, 29,\n",
       "        23, 12, 27, 22, 14, 29, 16, 22, 23, 19, 22, 17, 23, 15]),\n",
       " 'max_features': array([0.54284856, 0.57325351, 0.69456837, 0.83948459, 0.62351213,\n",
       "        0.54428438, 0.83208185, 0.69172463, 0.72436417, 0.69313182,\n",
       "        0.86512049, 0.6341061 , 0.56382934, 0.94381346, 0.69872774,\n",
       "        0.82165324, 0.83203182, 0.88624457, 0.55035486, 0.85997016,\n",
       "        0.67193845, 0.72967229, 0.77359266, 0.95214327, 0.65152372,\n",
       "        0.80627398, 0.52140756, 0.67563129, 0.58610988, 0.56625389,\n",
       "        0.99687065, 0.94157961, 0.66521652, 0.67952793, 0.92533717,\n",
       "        0.93635252, 0.83416475, 0.80790217, 0.6274411 , 0.606687  ,\n",
       "        0.7151291 , 0.81199478, 0.64179876, 0.83522701, 0.65379718,\n",
       "        0.76310035, 0.78673127, 0.57405554, 0.63806196, 0.76098787,\n",
       "        0.60156772, 0.80816851, 0.76408271, 0.71140493, 0.75444479,\n",
       "        0.97378842, 0.77578976, 0.65320149, 0.53668207, 0.92404724,\n",
       "        0.92294351, 0.7995431 , 0.68241932, 0.66025151, 0.60649273,\n",
       "        0.58490585, 0.90453991, 0.58980928, 0.88425258, 0.99059527,\n",
       "        0.64433779, 0.56172988, 0.50810509, 0.5626694 , 0.5208727 ,\n",
       "        0.82393277, 0.96807897, 0.90299065, 0.83935385, 0.61159957,\n",
       "        0.79303578, 0.61153943, 0.71059899, 0.97025092, 0.59986374,\n",
       "        0.65838062, 0.52378854, 0.50644634, 0.94986161, 0.7898065 ,\n",
       "        0.85940303, 0.83129748, 0.65732366, 0.51835186, 0.67330966,\n",
       "        0.63515761, 0.71555476, 0.8387001 , 0.82646059, 0.56715945,\n",
       "        0.98690929, 0.97278119, 0.79528337, 0.97714417, 0.85975645,\n",
       "        0.78116482, 0.97835465, 0.63013379, 0.52571112, 0.75268494,\n",
       "        0.73528395, 0.91939406, 0.90979624, 0.67061042, 0.7026414 ,\n",
       "        0.66964112, 0.5288162 , 0.96673661, 0.56641498, 0.99392716,\n",
       "        0.83567387, 0.57161511, 0.60670747, 0.69032324, 0.66870941,\n",
       "        0.79283495, 0.61695129, 0.81677875, 0.52671603, 0.56681578,\n",
       "        0.64735571, 0.68129177, 0.98520263, 0.85330014, 0.66949142,\n",
       "        0.97518604, 0.65001632, 0.78001894, 0.90517551, 0.61144727,\n",
       "        0.94127426, 0.73529864, 0.82747806, 0.81813336, 0.71621958,\n",
       "        0.75053592, 0.70209475, 0.53517133, 0.50423886, 0.95143076,\n",
       "        0.93531098, 0.52615457, 0.97480923, 0.71320048, 0.87420077,\n",
       "        0.65487949, 0.8727824 , 0.96778368, 0.65427459, 0.62229799,\n",
       "        0.85731995, 0.50913925, 0.92396387, 0.63826906, 0.77182955,\n",
       "        0.90398818, 0.72102149, 0.69278538, 0.64430963, 0.92671656,\n",
       "        0.6410895 , 0.80439192, 0.89533304, 0.99070368, 0.55041462,\n",
       "        0.55297375, 0.66258064, 0.6475658 , 0.9768006 , 0.77799434,\n",
       "        0.90501755, 0.95171417, 0.70368415, 0.69446028, 0.65819372,\n",
       "        0.95577816, 0.94232174, 0.51263462, 0.72783197, 0.56063136,\n",
       "        0.7923271 , 0.85924647, 0.95784756, 0.78168767, 0.87058133,\n",
       "        0.86123226, 0.82246681, 0.78010927, 0.8758705 , 0.62528255,\n",
       "        0.88598889, 0.97295746, 0.87701887, 0.50480387, 0.73076276,\n",
       "        0.91555286, 0.56314397, 0.83065959, 0.64494858, 0.63356372,\n",
       "        0.96044848, 0.79564941, 0.52045534, 0.64189825, 0.72842089,\n",
       "        0.64285523, 0.63337536, 0.51427873, 0.78995363, 0.94673476,\n",
       "        0.96831107, 0.60361591, 0.93814098, 0.61219915, 0.61943158,\n",
       "        0.86595491, 0.75107047, 0.64576095, 0.81029604, 0.62906197,\n",
       "        0.60281131, 0.58693055, 0.81296791, 0.84476799, 0.9693823 ,\n",
       "        0.59809051, 0.79240592, 0.83728324, 0.83376846, 0.66263748,\n",
       "        0.96142064, 0.84664765, 0.52806613, 0.93710066, 0.56066057,\n",
       "        0.78476021, 0.57958736, 0.58617985, 0.85519368, 0.83555484,\n",
       "        0.90505485, 0.89332886, 0.9700682 , 0.53521193, 0.51900189,\n",
       "        0.5686587 , 0.73744197, 0.65360388, 0.55001403, 0.73834005,\n",
       "        0.8048054 , 0.87568959, 0.89032827, 0.77875557, 0.76492499,\n",
       "        0.82660367, 0.51712498, 0.68526212, 0.63213432, 0.64140316,\n",
       "        0.66663386, 0.79782073, 0.59171242, 0.61991112, 0.76823048,\n",
       "        0.93606765, 0.88457485, 0.63013981, 0.80579608, 0.51030937,\n",
       "        0.92991128, 0.84850553, 0.50222146, 0.96167924, 0.93415817,\n",
       "        0.93774179, 0.65457555, 0.74189299, 0.56281477, 0.81977236,\n",
       "        0.54918202, 0.85388738, 0.88922282, 0.96480657, 0.67690085,\n",
       "        0.87619691, 0.96127193, 0.806913  , 0.76727933, 0.89922607,\n",
       "        0.9485197 , 0.54478788, 0.93302557, 0.97117084, 0.89629238,\n",
       "        0.58051687, 0.58159353, 0.59112026, 0.61475549, 0.64509891,\n",
       "        0.73815541, 0.5873011 , 0.62862321, 0.56887214, 0.50072535,\n",
       "        0.7227736 , 0.59320208, 0.71919572, 0.62463314, 0.95810774,\n",
       "        0.87616323, 0.80063521, 0.84967826, 0.72622824, 0.69772538,\n",
       "        0.80942959, 0.90672925, 0.93687301, 0.97208677, 0.74124804,\n",
       "        0.56740386, 0.59377792, 0.59322053, 0.71166308, 0.5032937 ,\n",
       "        0.52108901, 0.87443284, 0.58693714, 0.64482001, 0.82425432,\n",
       "        0.6752464 , 0.97190702, 0.57355807, 0.70748644, 0.56366105,\n",
       "        0.60734277, 0.52019986, 0.87178631, 0.58308685, 0.7036432 ,\n",
       "        0.88717941, 0.84163712, 0.91882968, 0.56762153, 0.87266186,\n",
       "        0.64896997, 0.82168472, 0.9074917 , 0.53400753, 0.92563975,\n",
       "        0.52665659, 0.58905536, 0.62643872, 0.53546924, 0.52893198,\n",
       "        0.94758434, 0.90175439, 0.70257412, 0.86527624, 0.62690886,\n",
       "        0.99278319, 0.87165099, 0.6223789 , 0.50783786, 0.89598754,\n",
       "        0.96277188, 0.9795982 , 0.67500236, 0.88111272, 0.60068696,\n",
       "        0.51498391, 0.88807146, 0.74166536, 0.89238865, 0.96458857,\n",
       "        0.94149517, 0.99213082, 0.85847839, 0.51980057, 0.65086689,\n",
       "        0.98468533, 0.69474898, 0.96543443, 0.53888195, 0.74860494,\n",
       "        0.69412969, 0.64729538, 0.96410952, 0.81100285, 0.98246024,\n",
       "        0.67880011, 0.56331537, 0.77817324, 0.65093528, 0.86233282,\n",
       "        0.82433533, 0.78491687, 0.69686109, 0.5541141 , 0.8432994 ,\n",
       "        0.95429084, 0.83591667, 0.52928939, 0.55566098, 0.80619807,\n",
       "        0.68786276, 0.99024227, 0.8499186 , 0.6610404 , 0.50328481,\n",
       "        0.64467967, 0.57836896, 0.62260831, 0.75127784, 0.6402925 ,\n",
       "        0.58639048, 0.87388754, 0.60209901, 0.6857225 , 0.88964759,\n",
       "        0.58606493, 0.58105791, 0.78182277, 0.82496944, 0.87927708,\n",
       "        0.68193795, 0.72563158, 0.66419249, 0.8867927 , 0.87671326,\n",
       "        0.50663947, 0.96705079, 0.79583883, 0.79637769, 0.73609075,\n",
       "        0.68559106, 0.92775356, 0.590668  , 0.85759363, 0.91111113,\n",
       "        0.55441416, 0.58057822, 0.89534556, 0.53317619, 0.82214588,\n",
       "        0.70522918, 0.8210702 , 0.53662935, 0.71361003, 0.66468169,\n",
       "        0.51207313, 0.80643037, 0.79866696, 0.77639085, 0.96578858,\n",
       "        0.87143942, 0.57532383, 0.58407584, 0.58113887, 0.68956141,\n",
       "        0.84542643, 0.75450959, 0.96956667, 0.98599172, 0.87358808,\n",
       "        0.83487207, 0.55591909, 0.59156677, 0.62809523, 0.90677909,\n",
       "        0.57939616, 0.54534622, 0.91974423, 0.71879716, 0.73927214,\n",
       "        0.86609024, 0.69965947, 0.87525557, 0.75598382, 0.93440664,\n",
       "        0.66780132, 0.81617094, 0.87353896, 0.87987204, 0.62686392,\n",
       "        0.50324955, 0.85544475, 0.61777616, 0.64433316, 0.66088713,\n",
       "        0.72823343, 0.66744796, 0.53021721, 0.92708582, 0.79177366,\n",
       "        0.8604459 , 0.82974789, 0.83660232, 0.59965431, 0.6780891 ,\n",
       "        0.65217285, 0.93436725, 0.79128651, 0.65743102, 0.78307931,\n",
       "        0.54967303, 0.87786797, 0.510243  , 0.57696688, 0.74210412,\n",
       "        0.88144731, 0.87363301, 0.79288432, 0.99298796, 0.94352657,\n",
       "        0.75145504, 0.81178699, 0.72555344, 0.80336332, 0.94922888,\n",
       "        0.97312388, 0.71408541, 0.6538035 , 0.92619883, 0.7877664 ,\n",
       "        0.7719398 , 0.56990546, 0.83295268, 0.67771683, 0.94145724,\n",
       "        0.60246195, 0.61805355, 0.67334591, 0.77722233, 0.667966  ,\n",
       "        0.97013761, 0.67511899, 0.76549662, 0.52958645, 0.52439353,\n",
       "        0.73183986, 0.83109083, 0.51070476, 0.93058241, 0.55414677,\n",
       "        0.52090282, 0.70056196, 0.5964287 , 0.86111367, 0.88303298,\n",
       "        0.67827409, 0.56710916, 0.93584887, 0.58959937, 0.87138438,\n",
       "        0.66110384, 0.91584529, 0.61771632, 0.96182278, 0.81858697,\n",
       "        0.634545  , 0.94885482, 0.85198538, 0.65516137, 0.54477706,\n",
       "        0.6252054 , 0.60040758, 0.5749222 , 0.87644393, 0.6616802 ,\n",
       "        0.54720109, 0.79827932, 0.62887291, 0.92247728, 0.57017902,\n",
       "        0.65754616, 0.64074774, 0.73101493, 0.83868739, 0.94811021,\n",
       "        0.90955792, 0.75355011, 0.64432229, 0.55468486, 0.55424808,\n",
       "        0.63142972, 0.54632061, 0.82925136, 0.78628479, 0.63141164,\n",
       "        0.99583962, 0.51664609, 0.75712908, 0.8555927 , 0.63198204,\n",
       "        0.94643651, 0.68400611, 0.78547256, 0.60324942, 0.94792847,\n",
       "        0.91583265, 0.97445451, 0.64102586, 0.87609506, 0.61484011,\n",
       "        0.6061434 , 0.5919615 , 0.85612906, 0.62619506, 0.82404308,\n",
       "        0.55351121, 0.73907495, 0.65171911, 0.77328863, 0.76557382,\n",
       "        0.66991603, 0.5121294 , 0.60332568, 0.67228909, 0.68896962,\n",
       "        0.57577154, 0.82617642, 0.8952699 , 0.75795979, 0.94900508,\n",
       "        0.71364267, 0.98349206, 0.81908928, 0.7092882 , 0.68212975,\n",
       "        0.67642774, 0.70851222, 0.51385132, 0.88078505, 0.84983569,\n",
       "        0.63230428, 0.5903512 , 0.60504041, 0.55506941, 0.79310672,\n",
       "        0.95865786, 0.72814795, 0.93369619, 0.57861274, 0.92338195,\n",
       "        0.82062096, 0.86182013, 0.94392886, 0.7342685 , 0.64968319,\n",
       "        0.55872165, 0.86305804, 0.83764367, 0.6930596 , 0.90759884,\n",
       "        0.62583112, 0.69358515, 0.51007331, 0.58815862, 0.97948405,\n",
       "        0.64963409, 0.83506802, 0.88100585, 0.50662442, 0.54149078,\n",
       "        0.76643335, 0.55291427, 0.71602535, 0.82281817, 0.77497011,\n",
       "        0.95140881, 0.99198878, 0.70649884, 0.66076264, 0.50646924,\n",
       "        0.53180767, 0.97474707, 0.76619939, 0.81990322, 0.58701842,\n",
       "        0.57623469, 0.68016327, 0.53985004, 0.72914684, 0.53243053,\n",
       "        0.80184669, 0.79187054, 0.98040228, 0.70929552, 0.73511083,\n",
       "        0.56335394, 0.68471283, 0.71538626, 0.55128551, 0.83737436,\n",
       "        0.67173042, 0.89098354, 0.61072012, 0.98734594, 0.54327803,\n",
       "        0.5839126 , 0.61278295, 0.7876593 , 0.65730787, 0.61597947,\n",
       "        0.64844204, 0.8527817 , 0.69538593, 0.58587518, 0.7913163 ,\n",
       "        0.61638763, 0.50621736, 0.57968359, 0.96090154, 0.71040873,\n",
       "        0.7678486 , 0.59105731, 0.80561893, 0.93102629, 0.7354643 ,\n",
       "        0.58972103, 0.92232912, 0.74755949, 0.60590992, 0.85601827,\n",
       "        0.85118456, 0.56017997, 0.53963799, 0.67390879, 0.96306965,\n",
       "        0.53026222, 0.88060997, 0.55979301, 0.63631531, 0.87948999,\n",
       "        0.60389294, 0.84829843, 0.86956878, 0.83768129, 0.95968748,\n",
       "        0.73914279, 0.86505408, 0.84120813, 0.50803143, 0.74368592,\n",
       "        0.94746117, 0.91541997, 0.92013082, 0.82753605, 0.749973  ,\n",
       "        0.76705746, 0.89408185, 0.66935699, 0.86867301, 0.75307357,\n",
       "        0.5111327 , 0.81178193, 0.76999539, 0.65778183, 0.59703443,\n",
       "        0.89858918, 0.73409534, 0.84888323, 0.80766955, 0.56252353,\n",
       "        0.51104869, 0.51504652, 0.72514879, 0.69065696, 0.52097373,\n",
       "        0.98408902, 0.79179613, 0.65667298, 0.86102873, 0.88493745,\n",
       "        0.77057088, 0.58696433, 0.53947384, 0.8759611 , 0.92717097,\n",
       "        0.61064736, 0.69994224, 0.84616988, 0.53222825, 0.70903643,\n",
       "        0.75498021, 0.83924836, 0.59171255, 0.91845559, 0.59657239,\n",
       "        0.74312529, 0.65089468, 0.54193285, 0.65542442, 0.79158787,\n",
       "        0.728374  , 0.52861333, 0.69479793, 0.58776292, 0.93104342,\n",
       "        0.79589059, 0.63369047, 0.8612827 , 0.50888033, 0.79120045,\n",
       "        0.6474087 , 0.68521577, 0.78640489, 0.76133041, 0.80391476,\n",
       "        0.79826214, 0.5280838 , 0.62496643, 0.92192421, 0.52355083,\n",
       "        0.57841403, 0.67787434, 0.95251935, 0.7718294 , 0.5098881 ,\n",
       "        0.5565437 , 0.87887179, 0.76087222, 0.62216863, 0.95272741,\n",
       "        0.80275253, 0.88255756, 0.73494351, 0.56722724, 0.73574592,\n",
       "        0.83778892, 0.85584276, 0.60956482, 0.71716206, 0.75247592,\n",
       "        0.84275119, 0.71267891, 0.58754223, 0.50591286, 0.92089297,\n",
       "        0.94740062, 0.73363406, 0.924632  , 0.9174863 , 0.71991794,\n",
       "        0.69866634, 0.5506436 , 0.56441237, 0.80163555, 0.81133145,\n",
       "        0.96742282, 0.87240088, 0.76366175, 0.79021296, 0.82476703,\n",
       "        0.88620962, 0.68418037, 0.9488462 , 0.99487482, 0.68308611,\n",
       "        0.71305315, 0.882922  , 0.77045918, 0.56951402, 0.76475247,\n",
       "        0.84184895, 0.74739258, 0.68645967, 0.52668592, 0.70003803,\n",
       "        0.69783516, 0.53806034, 0.95805428, 0.91430017, 0.53160164,\n",
       "        0.61307384, 0.66228193, 0.59345108, 0.88356593, 0.83316898,\n",
       "        0.76785055, 0.74512845, 0.57547825, 0.53582837, 0.72448094,\n",
       "        0.90257017, 0.84170739, 0.68476817, 0.7237887 , 0.61087163,\n",
       "        0.72250344, 0.52642826, 0.99195632, 0.52408306, 0.89239233,\n",
       "        0.60950482, 0.67373931, 0.681172  , 0.99119583, 0.81378498,\n",
       "        0.67411571, 0.65586635, 0.99718084, 0.57614848, 0.62322431,\n",
       "        0.7802034 , 0.86907045, 0.73557711, 0.64255119, 0.77448616,\n",
       "        0.81709441, 0.76384861, 0.78387637, 0.64616743, 0.53779402,\n",
       "        0.73811478, 0.94687097, 0.54254408, 0.51013818, 0.6353426 ,\n",
       "        0.77853502, 0.93315945, 0.92255736, 0.51467448, 0.7764613 ,\n",
       "        0.95812829, 0.77931388, 0.58072522, 0.84618052, 0.74661181,\n",
       "        0.78775882, 0.86471741, 0.81200905, 0.55568988, 0.91342234,\n",
       "        0.86454752, 0.92830233, 0.50650784, 0.74339943, 0.94595765,\n",
       "        0.51495064, 0.95882438, 0.51772471, 0.96567401, 0.83132682,\n",
       "        0.89493623, 0.98583786, 0.64878549, 0.91363022, 0.99967095,\n",
       "        0.63919712, 0.83852535, 0.53927171, 0.96249119, 0.79341469,\n",
       "        0.87536022, 0.88935864, 0.95900642, 0.81120227, 0.73695606,\n",
       "        0.75380965, 0.91617613, 0.65782261, 0.79538328, 0.79262024,\n",
       "        0.76264191, 0.56948372, 0.72064035, 0.91322707, 0.91419947,\n",
       "        0.70090947, 0.99908098, 0.64947191, 0.71804146, 0.85238547,\n",
       "        0.93787182, 0.6092472 , 0.97173941, 0.97955448, 0.95560009,\n",
       "        0.89589329, 0.90442864, 0.87982598, 0.62025267, 0.79389638,\n",
       "        0.56298479, 0.76584903, 0.67569121, 0.51751347, 0.66625839])}"
      ]
     },
     "execution_count": 106,
     "metadata": {
      "tags": []
     },
     "output_type": "execute_result"
    }
   ],
   "source": [
    "def make_params():\n",
    "\n",
    "    max_depth = np.random.randint(10, 30, 1000)\n",
    "    max_features = np.random.uniform(0.5, 1.0, 1000)\n",
    "\n",
    "    param_distributions = {\"max_depth\": max_depth, \"max_features\": max_features }\n",
    "\n",
    "    return param_distributions\n",
    "\n",
    "param_distributions = make_params()\n",
    "param_distributions"
   ]
  },
  {
   "cell_type": "code",
   "execution_count": 107,
   "metadata": {
    "colab": {
     "base_uri": "https://localhost:8080/"
    },
    "id": "LoQVNuyuvGIa",
    "outputId": "bff53aa2-04a7-4da8-dc4f-7710f307593b"
   },
   "outputs": [
    {
     "name": "stdout",
     "output_type": "stream",
     "text": [
      "Fitting 3 folds for each of 1000 candidates, totalling 3000 fits\n"
     ]
    },
    {
     "name": "stderr",
     "output_type": "stream",
     "text": [
      "[Parallel(n_jobs=-1)]: Using backend LokyBackend with 2 concurrent workers.\n",
      "[Parallel(n_jobs=-1)]: Done 216 tasks      | elapsed:    2.4s\n",
      "[Parallel(n_jobs=-1)]: Done 2152 tasks      | elapsed:   13.5s\n",
      "[Parallel(n_jobs=-1)]: Done 3000 out of 3000 | elapsed:   18.3s finished\n",
      "[Parallel(n_jobs=-1)]: Using backend LokyBackend with 2 concurrent workers.\n"
     ]
    },
    {
     "name": "stdout",
     "output_type": "stream",
     "text": [
      "Fitting 3 folds for each of 1000 candidates, totalling 3000 fits\n"
     ]
    },
    {
     "name": "stderr",
     "output_type": "stream",
     "text": [
      "[Parallel(n_jobs=-1)]: Done  37 tasks      | elapsed:   11.0s\n",
      "[Parallel(n_jobs=-1)]: Done 158 tasks      | elapsed:   44.1s\n",
      "[Parallel(n_jobs=-1)]: Done 361 tasks      | elapsed:  1.6min\n",
      "[Parallel(n_jobs=-1)]: Done 644 tasks      | elapsed:  2.9min\n",
      "[Parallel(n_jobs=-1)]: Done 1009 tasks      | elapsed:  4.6min\n",
      "[Parallel(n_jobs=-1)]: Done 1454 tasks      | elapsed:  6.6min\n",
      "[Parallel(n_jobs=-1)]: Done 1981 tasks      | elapsed:  9.0min\n",
      "[Parallel(n_jobs=-1)]: Done 2588 tasks      | elapsed: 11.7min\n",
      "[Parallel(n_jobs=-1)]: Done 3000 out of 3000 | elapsed: 13.6min finished\n"
     ]
    },
    {
     "name": "stdout",
     "output_type": "stream",
     "text": [
      "Fitting 3 folds for each of 1000 candidates, totalling 3000 fits\n"
     ]
    },
    {
     "name": "stderr",
     "output_type": "stream",
     "text": [
      "[Parallel(n_jobs=-1)]: Using backend LokyBackend with 2 concurrent workers.\n",
      "[Parallel(n_jobs=-1)]: Done  37 tasks      | elapsed:   12.6s\n",
      "[Parallel(n_jobs=-1)]: Done 158 tasks      | elapsed:   50.3s\n",
      "[Parallel(n_jobs=-1)]: Done 361 tasks      | elapsed:  2.0min\n",
      "[Parallel(n_jobs=-1)]: Done 644 tasks      | elapsed:  3.6min\n",
      "[Parallel(n_jobs=-1)]: Done 1009 tasks      | elapsed:  5.6min\n",
      "[Parallel(n_jobs=-1)]: Done 1454 tasks      | elapsed:  8.0min\n",
      "[Parallel(n_jobs=-1)]: Done 1981 tasks      | elapsed: 10.9min\n",
      "[Parallel(n_jobs=-1)]: Done 2588 tasks      | elapsed: 14.3min\n",
      "[Parallel(n_jobs=-1)]: Done 3000 out of 3000 | elapsed: 16.6min finished\n"
     ]
    }
   ],
   "source": [
    "from sklearn.model_selection import RandomizedSearchCV\n",
    "\n",
    "results = []\n",
    "for estimator in estimators:\n",
    "    result = []\n",
    "\n",
    "    param_distributions = make_params()\n",
    "\n",
    "    regressor = RandomizedSearchCV(estimator,\n",
    "        param_distributions,\n",
    "        n_iter=1000,\n",
    "        scoring=None,\n",
    "        n_jobs=-1,\n",
    "        cv=3,\n",
    "        verbose=2, \n",
    "        random_state=42)\n",
    "\n",
    "    regressor.fit(feature_train_X, train_y)\n",
    "    \n",
    "    result.append(estimator.__class__.__name__)\n",
    "    result.append(regressor.best_params_)\n",
    "    result.append(regressor.best_estimator_)\n",
    "    result.append(regressor.best_score_)\n",
    "    result.append(regressor.cv_results_)\n",
    "    results.append(result)"
   ]
  },
  {
   "cell_type": "code",
   "execution_count": 108,
   "metadata": {
    "colab": {
     "base_uri": "https://localhost:8080/",
     "height": 0
    },
    "id": "x9JyzjI7vT5K",
    "outputId": "9c12e255-e020-4d53-eb00-49cc815973cb"
   },
   "outputs": [
    {
     "data": {
      "text/html": [
       "<div>\n",
       "<style scoped>\n",
       "    .dataframe tbody tr th:only-of-type {\n",
       "        vertical-align: middle;\n",
       "    }\n",
       "\n",
       "    .dataframe tbody tr th {\n",
       "        vertical-align: top;\n",
       "    }\n",
       "\n",
       "    .dataframe thead th {\n",
       "        text-align: right;\n",
       "    }\n",
       "</style>\n",
       "<table border=\"1\" class=\"dataframe\">\n",
       "  <thead>\n",
       "    <tr style=\"text-align: right;\">\n",
       "      <th></th>\n",
       "      <th>model</th>\n",
       "      <th>params</th>\n",
       "      <th>estimator</th>\n",
       "      <th>score</th>\n",
       "      <th>cv_result</th>\n",
       "    </tr>\n",
       "  </thead>\n",
       "  <tbody>\n",
       "    <tr>\n",
       "      <th>1</th>\n",
       "      <td>RandomForestRegressor</td>\n",
       "      <td>{'max_features': 0.8207323544678131, 'max_dept...</td>\n",
       "      <td>(DecisionTreeRegressor(ccp_alpha=0.0, criterio...</td>\n",
       "      <td>0.745927</td>\n",
       "      <td>{'mean_fit_time': [0.4653143088022868, 0.60422...</td>\n",
       "    </tr>\n",
       "    <tr>\n",
       "      <th>2</th>\n",
       "      <td>GradientBoostingRegressor</td>\n",
       "      <td>{'max_features': 0.662667183463378, 'max_depth...</td>\n",
       "      <td>([DecisionTreeRegressor(ccp_alpha=0.0, criteri...</td>\n",
       "      <td>0.733069</td>\n",
       "      <td>{'mean_fit_time': [0.40938909848531085, 0.5901...</td>\n",
       "    </tr>\n",
       "    <tr>\n",
       "      <th>0</th>\n",
       "      <td>DecisionTreeRegressor</td>\n",
       "      <td>{'max_features': 0.7427104477178823, 'max_dept...</td>\n",
       "      <td>DecisionTreeRegressor(ccp_alpha=0.0, criterion...</td>\n",
       "      <td>0.654100</td>\n",
       "      <td>{'mean_fit_time': [0.007643858591715495, 0.008...</td>\n",
       "    </tr>\n",
       "  </tbody>\n",
       "</table>\n",
       "</div>"
      ],
      "text/plain": [
       "                       model  ...                                          cv_result\n",
       "1      RandomForestRegressor  ...  {'mean_fit_time': [0.4653143088022868, 0.60422...\n",
       "2  GradientBoostingRegressor  ...  {'mean_fit_time': [0.40938909848531085, 0.5901...\n",
       "0      DecisionTreeRegressor  ...  {'mean_fit_time': [0.007643858591715495, 0.008...\n",
       "\n",
       "[3 rows x 5 columns]"
      ]
     },
     "execution_count": 108,
     "metadata": {
      "tags": []
     },
     "output_type": "execute_result"
    }
   ],
   "source": [
    "df_cv = pd.DataFrame(results)\n",
    "df_cv.columns = [\"model\", \"params\", \"estimator\", \"score\", \"cv_result\"]\n",
    "df_cv = df_cv.sort_values(\"score\", ascending=False)\n",
    "df_cv"
   ]
  },
  {
   "cell_type": "code",
   "execution_count": 110,
   "metadata": {
    "colab": {
     "base_uri": "https://localhost:8080/"
    },
    "id": "oXMV2JiavWRB",
    "outputId": "c28f60d0-191a-4f5f-ae65-b936a681c24b"
   },
   "outputs": [
    {
     "data": {
      "text/plain": [
       "RandomForestRegressor(bootstrap=True, ccp_alpha=0.0, criterion='mse',\n",
       "                      max_depth=10, max_features=0.8207323544678131,\n",
       "                      max_leaf_nodes=None, max_samples=None,\n",
       "                      min_impurity_decrease=0.0, min_impurity_split=None,\n",
       "                      min_samples_leaf=1, min_samples_split=2,\n",
       "                      min_weight_fraction_leaf=0.0, n_estimators=100,\n",
       "                      n_jobs=None, oob_score=False, random_state=42, verbose=0,\n",
       "                      warm_start=False)"
      ]
     },
     "execution_count": 110,
     "metadata": {
      "tags": []
     },
     "output_type": "execute_result"
    }
   ],
   "source": [
    "best_estimator = df_cv.iloc[0][\"estimator\"]\n",
    "best_estimator"
   ]
  },
  {
   "cell_type": "markdown",
   "metadata": {
    "id": "Cvq8u1b-cCcM"
   },
   "source": [
    "##7.학습(훈련)"
   ]
  },
  {
   "cell_type": "code",
   "execution_count": 111,
   "metadata": {
    "colab": {
     "base_uri": "https://localhost:8080/"
    },
    "id": "RBK231H4vYkX",
    "outputId": "46de1b24-cc26-41eb-fd59-2076a6ed65ba"
   },
   "outputs": [
    {
     "data": {
      "text/plain": [
       "RandomForestRegressor(bootstrap=True, ccp_alpha=0.0, criterion='mse',\n",
       "                      max_depth=10, max_features=0.8207323544678131,\n",
       "                      max_leaf_nodes=None, max_samples=None,\n",
       "                      min_impurity_decrease=0.0, min_impurity_split=None,\n",
       "                      min_samples_leaf=1, min_samples_split=2,\n",
       "                      min_weight_fraction_leaf=0.0, n_estimators=100,\n",
       "                      n_jobs=None, oob_score=False, random_state=42, verbose=0,\n",
       "                      warm_start=False)"
      ]
     },
     "execution_count": 111,
     "metadata": {
      "tags": []
     },
     "output_type": "execute_result"
    }
   ],
   "source": [
    "best_estimator.fit(feature_train_X, train_y)"
   ]
  },
  {
   "cell_type": "code",
   "execution_count": 114,
   "metadata": {
    "colab": {
     "base_uri": "https://localhost:8080/"
    },
    "id": "oPshFbnkDQsf",
    "outputId": "9548ff75-369c-4d14-c49b-ddba91682b7f"
   },
   "outputs": [
    {
     "name": "stderr",
     "output_type": "stream",
     "text": [
      "[Parallel(n_jobs=-1)]: Using backend LokyBackend with 2 concurrent workers.\n",
      "[Parallel(n_jobs=-1)]: Done   5 out of   5 | elapsed:    2.6s remaining:    0.0s\n",
      "[Parallel(n_jobs=-1)]: Done   5 out of   5 | elapsed:    2.6s finished\n"
     ]
    },
    {
     "data": {
      "text/plain": [
       "array([1972258.54732196,  336763.99755154,  782520.00208907,\n",
       "       2338322.71487199,  968948.90606965])"
      ]
     },
     "execution_count": 114,
     "metadata": {
      "tags": []
     },
     "output_type": "execute_result"
    }
   ],
   "source": [
    "# train set와 valid set를 나눠 cross validation으로 train set으로 학습한 모델을 검증합니다.\n",
    "# test 점수를 예측하기 전에 \n",
    "from sklearn.model_selection import cross_val_predict\n",
    "\n",
    "y_valid_predict = cross_val_predict(best_estimator, feature_train_X, train_y, cv=5, verbose=2, n_jobs=-1)\n",
    "y_valid_predict[:5]"
   ]
  },
  {
   "cell_type": "code",
   "execution_count": 115,
   "metadata": {
    "colab": {
     "base_uri": "https://localhost:8080/",
     "height": 363
    },
    "id": "i8NCnOfbDVPB",
    "outputId": "7ba95d5c-9b89-4e2f-f392-9b2e70e14df0"
   },
   "outputs": [
    {
     "name": "stderr",
     "output_type": "stream",
     "text": [
      "/usr/local/lib/python3.6/dist-packages/seaborn/_decorators.py:43: FutureWarning: Pass the following variables as keyword args: x, y. From version 0.12, the only valid positional argument will be `data`, and passing other arguments without an explicit keyword will result in an error or misinterpretation.\n",
      "  FutureWarning\n"
     ]
    },
    {
     "data": {
      "text/plain": [
       "<matplotlib.axes._subplots.AxesSubplot at 0x7f31cd848b00>"
      ]
     },
     "execution_count": 115,
     "metadata": {
      "tags": []
     },
     "output_type": "execute_result"
    },
    {
     "data": {
      "image/png": "[encoded data removed]",
      "text/plain": [
       "<Figure size 432x288 with 1 Axes>"
      ]
     },
     "metadata": {
      "needs_background": "light",
      "tags": []
     },
     "output_type": "display_data"
    }
   ],
   "source": [
    "# regplot 으로 결과 값을 비교합니다.\n",
    "# 회귀선에서 멀리 떨어질 수록 실제값과 예측값의 차이가 많이 납니다.\n",
    "# 회귀선에 가까울수록 실제값과 예측값의 차이가 작습니다.\n",
    "\n",
    "sns.regplot(train_y, y_valid_predict)"
   ]
  },
  {
   "cell_type": "code",
   "execution_count": 116,
   "metadata": {
    "colab": {
     "base_uri": "https://localhost:8080/"
    },
    "id": "2hVHIsQBDY2Z",
    "outputId": "c2ecbfc1-0436-41fb-9693-342785d22d0b"
   },
   "outputs": [
    {
     "data": {
      "text/plain": [
       "0.6264556367202996"
      ]
     },
     "execution_count": 116,
     "metadata": {
      "tags": []
     },
     "output_type": "execute_result"
    }
   ],
   "source": [
    "# r2_score 를 구합니다. 1에 가까울 수록 정확도가 높습니다.\n",
    "# 0.75 이상의 값이 나오는지 확인합니다.\n",
    "\n",
    "from sklearn.metrics import r2_score\n",
    "\n",
    "r2_score(train_y, y_valid_predict)"
   ]
  },
  {
   "cell_type": "code",
   "execution_count": 118,
   "metadata": {
    "ExecuteTime": {
     "end_time": "2020-05-24T12:56:14.195708Z",
     "start_time": "2020-05-24T12:56:13.950221Z"
    },
    "colab": {
     "base_uri": "https://localhost:8080/",
     "height": 398
    },
    "id": "lOUbaKPrhADf",
    "outputId": "e1a3558a-7424-458c-bfc5-269a328ef56c"
   },
   "outputs": [
    {
     "name": "stderr",
     "output_type": "stream",
     "text": [
      "/usr/local/lib/python3.6/dist-packages/seaborn/distributions.py:2551: FutureWarning: `distplot` is a deprecated function and will be removed in a future version. Please adapt your code to use either `displot` (a figure-level function with similar flexibility) or `kdeplot` (an axes-level function for kernel density plots).\n",
      "  warnings.warn(msg, FutureWarning)\n",
      "/usr/local/lib/python3.6/dist-packages/seaborn/distributions.py:2551: FutureWarning: `distplot` is a deprecated function and will be removed in a future version. Please adapt your code to use either `displot` (a figure-level function with similar flexibility) or `kdeplot` (an axes-level function for kernel density plots).\n",
      "  warnings.warn(msg, FutureWarning)\n"
     ]
    },
    {
     "data": {
      "text/plain": [
       "<matplotlib.axes._subplots.AxesSubplot at 0x7f31cd87b470>"
      ]
     },
     "execution_count": 118,
     "metadata": {
      "tags": []
     },
     "output_type": "execute_result"
    },
    {
     "data": {
      "image/png": "[encoded data removed]",
      "text/plain": [
       "<Figure size 432x288 with 1 Axes>"
      ]
     },
     "metadata": {
      "needs_background": "light",
      "tags": []
     },
     "output_type": "display_data"
    }
   ],
   "source": [
    "# distplot으로 정답값과 예측값의 분포를 그립니다.\n",
    "\n",
    "sns.distplot(train_y, hist=False, label=\"train\")\n",
    "sns.distplot(y_valid_predict, hist=False, label=\"predict\")"
   ]
  },
  {
   "cell_type": "markdown",
   "metadata": {
    "id": "dEI6k1l9MOhl"
   },
   "source": [
    "##8.예측"
   ]
  },
  {
   "cell_type": "code",
   "execution_count": 134,
   "metadata": {
    "colab": {
     "base_uri": "https://localhost:8080/"
    },
    "id": "ujdxviz0fbb2",
    "outputId": "9228a51d-813a-4a64-9000-e34cd5428207"
   },
   "outputs": [
    {
     "name": "stderr",
     "output_type": "stream",
     "text": [
      "\n",
      "\n",
      "  0%|          | 0/1967 [00:00<?, ?it/s]\u001b[A\u001b[A\n",
      "\n",
      "  0%|          | 1/1967 [00:00<10:37,  3.08it/s]\u001b[A\u001b[A\n",
      "\n",
      "  1%|▏         | 26/1967 [00:00<07:23,  4.38it/s]\u001b[A\u001b[A\n",
      "\n",
      "  3%|▎         | 51/1967 [00:00<05:08,  6.21it/s]\u001b[A\u001b[A\n",
      "\n",
      "  4%|▍         | 77/1967 [00:00<03:35,  8.78it/s]\u001b[A\u001b[A\n",
      "\n",
      "  5%|▌         | 103/1967 [00:00<02:30, 12.36it/s]\u001b[A\u001b[A\n",
      "\n",
      "  7%|▋         | 130/1967 [00:00<01:46, 17.31it/s]\u001b[A\u001b[A\n",
      "\n",
      "  8%|▊         | 157/1967 [00:00<01:15, 24.05it/s]\u001b[A\u001b[A\n",
      "\n",
      "  9%|▉         | 183/1967 [00:01<00:54, 33.00it/s]\u001b[A\u001b[A\n",
      "\n",
      " 11%|█         | 210/1967 [00:01<00:39, 44.76it/s]\u001b[A\u001b[A\n",
      "\n",
      " 12%|█▏        | 236/1967 [00:01<00:29, 59.55it/s]\u001b[A\u001b[A\n",
      "\n",
      " 13%|█▎        | 263/1967 [00:01<00:21, 77.65it/s]\u001b[A\u001b[A\n",
      "\n",
      " 15%|█▍        | 290/1967 [00:01<00:17, 98.35it/s]\u001b[A\u001b[A\n",
      "\n",
      " 16%|█▌        | 318/1967 [00:01<00:13, 121.66it/s]\u001b[A\u001b[A\n",
      "\n",
      " 18%|█▊        | 345/1967 [00:01<00:11, 144.55it/s]\u001b[A\u001b[A\n",
      "\n",
      " 19%|█▉        | 372/1967 [00:01<00:09, 165.05it/s]\u001b[A\u001b[A\n",
      "\n",
      " 20%|██        | 399/1967 [00:01<00:08, 185.60it/s]\u001b[A\u001b[A\n",
      "\n",
      " 22%|██▏       | 425/1967 [00:01<00:07, 202.36it/s]\u001b[A\u001b[A\n",
      "\n",
      " 23%|██▎       | 451/1967 [00:02<00:07, 213.55it/s]\u001b[A\u001b[A\n",
      "\n",
      " 24%|██▍       | 477/1967 [00:02<00:06, 224.03it/s]\u001b[A\u001b[A\n",
      "\n",
      " 26%|██▌       | 503/1967 [00:02<00:06, 233.08it/s]\u001b[A\u001b[A\n",
      "\n",
      " 27%|██▋       | 529/1967 [00:02<00:06, 236.51it/s]\u001b[A\u001b[A\n",
      "\n",
      " 28%|██▊       | 555/1967 [00:02<00:05, 242.81it/s]\u001b[A\u001b[A\n",
      "\n",
      " 30%|██▉       | 581/1967 [00:02<00:05, 246.81it/s]\u001b[A\u001b[A\n",
      "\n",
      " 31%|███       | 607/1967 [00:02<00:05, 245.93it/s]\u001b[A\u001b[A\n",
      "\n",
      " 32%|███▏      | 633/1967 [00:02<00:05, 239.35it/s]\u001b[A\u001b[A\n",
      "\n",
      " 34%|███▎      | 659/1967 [00:02<00:05, 243.22it/s]\u001b[A\u001b[A\n",
      "\n",
      " 35%|███▍      | 684/1967 [00:03<00:05, 242.48it/s]\u001b[A\u001b[A\n",
      "\n",
      " 36%|███▌      | 709/1967 [00:03<00:05, 242.13it/s]\u001b[A\u001b[A\n",
      "\n",
      " 37%|███▋      | 734/1967 [00:03<00:05, 242.05it/s]\u001b[A\u001b[A\n",
      "\n",
      " 39%|███▊      | 761/1967 [00:03<00:04, 249.41it/s]\u001b[A\u001b[A\n",
      "\n",
      " 40%|████      | 787/1967 [00:03<00:04, 250.89it/s]\u001b[A\u001b[A\n",
      "\n",
      " 41%|████▏     | 814/1967 [00:03<00:04, 255.10it/s]\u001b[A\u001b[A\n",
      "\n",
      " 43%|████▎     | 841/1967 [00:03<00:04, 257.48it/s]\u001b[A\u001b[A\n",
      "\n",
      " 44%|████▍     | 868/1967 [00:03<00:04, 259.38it/s]\u001b[A\u001b[A\n",
      "\n",
      " 46%|████▌     | 895/1967 [00:03<00:04, 260.54it/s]\u001b[A\u001b[A\n",
      "\n",
      " 47%|████▋     | 922/1967 [00:03<00:04, 253.36it/s]\u001b[A\u001b[A\n",
      "\n",
      " 48%|████▊     | 948/1967 [00:04<00:04, 253.10it/s]\u001b[A\u001b[A\n",
      "\n",
      " 50%|████▉     | 975/1967 [00:04<00:03, 255.81it/s]\u001b[A\u001b[A\n",
      "\n",
      " 51%|█████     | 1002/1967 [00:04<00:03, 258.22it/s]\u001b[A\u001b[A\n",
      "\n",
      " 52%|█████▏    | 1028/1967 [00:04<00:03, 258.41it/s]\u001b[A\u001b[A\n",
      "\n",
      " 54%|█████▎    | 1055/1967 [00:04<00:03, 261.60it/s]\u001b[A\u001b[A\n",
      "\n",
      " 55%|█████▌    | 1082/1967 [00:04<00:03, 261.38it/s]\u001b[A\u001b[A\n",
      "\n",
      " 56%|█████▋    | 1109/1967 [00:04<00:03, 256.27it/s]\u001b[A\u001b[A\n",
      "\n",
      " 58%|█████▊    | 1135/1967 [00:04<00:03, 251.82it/s]\u001b[A\u001b[A\n",
      "\n",
      " 59%|█████▉    | 1163/1967 [00:04<00:03, 257.53it/s]\u001b[A\u001b[A\n",
      "\n",
      " 60%|██████    | 1189/1967 [00:04<00:03, 255.69it/s]\u001b[A\u001b[A\n",
      "\n",
      " 62%|██████▏   | 1215/1967 [00:05<00:02, 252.48it/s]\u001b[A\u001b[A\n",
      "\n",
      " 63%|██████▎   | 1241/1967 [00:05<00:02, 254.22it/s]\u001b[A\u001b[A\n",
      "\n",
      " 64%|██████▍   | 1268/1967 [00:05<00:02, 256.66it/s]\u001b[A\u001b[A\n",
      "\n",
      " 66%|██████▌   | 1294/1967 [00:05<00:02, 253.24it/s]\u001b[A\u001b[A\n",
      "\n",
      " 67%|██████▋   | 1321/1967 [00:05<00:02, 257.27it/s]\u001b[A\u001b[A\n",
      "\n",
      " 69%|██████▊   | 1348/1967 [00:05<00:02, 258.94it/s]\u001b[A\u001b[A\n",
      "\n",
      " 70%|██████▉   | 1374/1967 [00:05<00:02, 257.78it/s]\u001b[A\u001b[A\n",
      "\n",
      " 71%|███████   | 1400/1967 [00:05<00:02, 256.54it/s]\u001b[A\u001b[A\n",
      "\n",
      " 72%|███████▏  | 1426/1967 [00:05<00:02, 255.41it/s]\u001b[A\u001b[A\n",
      "\n",
      " 74%|███████▍  | 1452/1967 [00:06<00:02, 248.78it/s]\u001b[A\u001b[A\n",
      "\n",
      " 75%|███████▌  | 1477/1967 [00:06<00:01, 247.06it/s]\u001b[A\u001b[A\n",
      "\n",
      " 76%|███████▋  | 1502/1967 [00:06<00:01, 244.97it/s]\u001b[A\u001b[A\n",
      "\n",
      " 78%|███████▊  | 1529/1967 [00:06<00:01, 251.68it/s]\u001b[A\u001b[A\n",
      "\n",
      " 79%|███████▉  | 1556/1967 [00:06<00:01, 253.77it/s]\u001b[A\u001b[A\n",
      "\n",
      " 80%|████████  | 1582/1967 [00:06<00:01, 254.61it/s]\u001b[A\u001b[A\n",
      "\n",
      " 82%|████████▏ | 1609/1967 [00:06<00:01, 257.74it/s]\u001b[A\u001b[A\n",
      "\n",
      " 83%|████████▎ | 1635/1967 [00:06<00:01, 254.35it/s]\u001b[A\u001b[A\n",
      "\n",
      " 84%|████████▍ | 1661/1967 [00:06<00:01, 255.36it/s]\u001b[A\u001b[A\n",
      "\n",
      " 86%|████████▌ | 1687/1967 [00:06<00:01, 252.76it/s]\u001b[A\u001b[A\n",
      "\n",
      " 87%|████████▋ | 1713/1967 [00:07<00:01, 250.95it/s]\u001b[A\u001b[A\n",
      "\n",
      " 88%|████████▊ | 1739/1967 [00:07<00:00, 245.02it/s]\u001b[A\u001b[A\n",
      "\n",
      " 90%|████████▉ | 1766/1967 [00:07<00:00, 250.32it/s]\u001b[A\u001b[A\n",
      "\n",
      " 91%|█████████ | 1792/1967 [00:07<00:00, 251.42it/s]\u001b[A\u001b[A\n",
      "\n",
      " 92%|█████████▏| 1818/1967 [00:07<00:00, 250.06it/s]\u001b[A\u001b[A\n",
      "\n",
      " 94%|█████████▎| 1844/1967 [00:07<00:00, 250.30it/s]\u001b[A\u001b[A\n",
      "\n",
      " 95%|█████████▌| 1870/1967 [00:07<00:00, 249.05it/s]\u001b[A\u001b[A\n",
      "\n",
      " 96%|█████████▋| 1896/1967 [00:07<00:00, 249.60it/s]\u001b[A\u001b[A\n",
      "\n",
      " 98%|█████████▊| 1922/1967 [00:07<00:00, 250.54it/s]\u001b[A\u001b[A\n",
      "\n",
      "100%|██████████| 1967/1967 [00:08<00:00, 243.44it/s]\n"
     ]
    }
   ],
   "source": [
    "feature_X = feature_extractor(df[df.transaction_time >= datetime.datetime(2016,9,1)])"
   ]
  },
  {
   "cell_type": "code",
   "execution_count": 135,
   "metadata": {
    "colab": {
     "base_uri": "https://localhost:8080/"
    },
    "id": "j18L250pDl8l",
    "outputId": "8ccd3cbf-2663-4445-e720-904b38c03efa"
   },
   "outputs": [
    {
     "data": {
      "text/plain": [
       "array([5873520.47389526,  849767.62639608, 1987114.60665739,\n",
       "       7062569.62477384, 2092826.01070962])"
      ]
     },
     "execution_count": 135,
     "metadata": {
      "tags": []
     },
     "output_type": "execute_result"
    }
   ],
   "source": [
    "# 위에서 찾은 best_estimator 를 통해 실제값을 예측합니다.\n",
    "pred = best_estimator.predict(feature_X)\n",
    "pred[:5]"
   ]
  },
  {
   "cell_type": "code",
   "execution_count": 141,
   "metadata": {
    "id": "KsVAFJrwfQed"
   },
   "outputs": [],
   "source": [
    "prediction = pd.DataFrame({'store_id':feature_X.store_id, 'amount':pred})"
   ]
  },
  {
   "cell_type": "markdown",
   "metadata": {
    "id": "F7H477_9U_HQ"
   },
   "source": [
    "##9. feature importance"
   ]
  },
  {
   "cell_type": "code",
   "execution_count": 121,
   "metadata": {
    "id": "49OGMrzEUwa2"
   },
   "outputs": [],
   "source": [
    "feature_importance = best_estimator.feature_importances_"
   ]
  },
  {
   "cell_type": "code",
   "execution_count": 138,
   "metadata": {
    "colab": {
     "base_uri": "https://localhost:8080/",
     "height": 282
    },
    "id": "nnx5hQtXDsel",
    "outputId": "3f54c19a-115e-4a03-e721-0d108fce62fe"
   },
   "outputs": [
    {
     "data": {
      "text/plain": [
       "<matplotlib.axes._subplots.AxesSubplot at 0x7f31bd7af2b0>"
      ]
     },
     "execution_count": 138,
     "metadata": {
      "tags": []
     },
     "output_type": "execute_result"
    },
    {
     "data": {
      "image/png": "[encoded data removed]",
      "text/plain": [
       "<Figure size 432x288 with 1 Axes>"
      ]
     },
     "metadata": {
      "needs_background": "light",
      "tags": []
     },
     "output_type": "display_data"
    }
   ],
   "source": [
    "# 피처의 중요도 시각화 하기\n",
    "sns.barplot(x=feature_importance, y=feature_X.columns)"
   ]
  },
  {
   "cell_type": "markdown",
   "metadata": {
    "id": "0hOY1vYTVYGO"
   },
   "source": [
    "#9.제출"
   ]
  },
  {
   "cell_type": "code",
   "execution_count": null,
   "metadata": {
    "id": "Vr_X21XOKwE2"
   },
   "outputs": [],
   "source": [
    "# 아직 구현 못함\n",
    "# 3-(3) 리모델링 -> 최근 3개월치 단순 평균 값을 최종예측값으로\n",
    "remodeling_store_id"
   ]
  },
  {
   "cell_type": "code",
   "execution_count": null,
   "metadata": {
    "id": "6JGkR11qKxa7"
   },
   "outputs": [],
   "source": [
    "# 아직 구현 못함\n",
    "# 3-(2) 폐점 -> 최종예측값을 0으로\n",
    "no_data_store_id"
   ]
  },
  {
   "cell_type": "code",
   "execution_count": 142,
   "metadata": {
    "id": "5C24vsxSXNjc"
   },
   "outputs": [],
   "source": [
    "# prediction은 store_id와 amount 두 개 칼럼으로 이루어진 df\n",
    "submit = pd.read_csv(\"/content/drive/MyDrive/funda/submission.csv\")\n",
    "submit = submit[['store_id']].merge(prediction, on='store_id', how='left')\n",
    "submit.amount = submit.amount.fillna(0)"
   ]
  },
  {
   "cell_type": "code",
   "execution_count": 143,
   "metadata": {
    "id": "vU45sC1DXmm3"
   },
   "outputs": [],
   "source": [
    "submit.to_csv('/content/drive/MyDrive/201224.csv', index=False)"
   ]
  }
 ],
 "metadata": {
  "colab": {
   "collapsed_sections": [
    "TqcFpeSVw9jL",
    "QwSvhafCMAMR",
    "YCvZmhLT37TU",
    "7BCTXpc4f7_I",
    "q3GQZ3wLbx6v"
   ],
   "name": "dacon_윤맑은이슬_5주차최종.ipynb",
   "provenance": []
  },
  "kernelspec": {
   "display_name": "Python 3",
   "language": "python",
   "name": "python3"
  },
  "language_info": {
   "codemirror_mode": {
    "name": "ipython",
    "version": 3
   },
   "file_extension": ".py",
   "mimetype": "text/x-python",
   "name": "python",
   "nbconvert_exporter": "python",
   "pygments_lexer": "ipython3",
   "version": "3.6.5"
  }
 },
 "nbformat": 4,
 "nbformat_minor": 1
}
